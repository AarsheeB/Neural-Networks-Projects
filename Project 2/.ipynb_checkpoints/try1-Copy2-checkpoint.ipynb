{
 "cells": [
  {
   "cell_type": "code",
   "execution_count": 1,
   "id": "61237136",
   "metadata": {},
   "outputs": [],
   "source": [
    "import matplotlib.pyplot as py\n",
    "from PIL import Image\n",
    "import numpy as np\n",
    "import matplotlib.pyplot as plt\n",
    "from math import *\n",
    "import math\n",
    "from keras.models import Sequential\n",
    "from keras.layers import Dense\n",
    "import numpy\n",
    "import random\n",
    " \n"
   ]
  },
  {
   "cell_type": "code",
   "execution_count": null,
   "id": "472f6ce4",
   "metadata": {},
   "outputs": [],
   "source": []
  },
  {
   "cell_type": "code",
   "execution_count": 2,
   "id": "9a7f3d13",
   "metadata": {},
   "outputs": [
    {
     "name": "stdout",
     "output_type": "stream",
     "text": [
      "PNG\n",
      "(16, 16)\n",
      "RGB\n",
      "PNG\n",
      "(16, 16)\n",
      "RGB\n",
      "PNG\n",
      "(16, 16)\n",
      "RGB\n",
      "PNG\n",
      "(16, 16)\n",
      "RGB\n",
      "PNG\n",
      "(16, 16)\n",
      "RGB\n",
      "PNG\n",
      "(16, 16)\n",
      "RGB\n",
      "PNG\n",
      "(16, 16)\n",
      "RGB\n",
      "PNG\n",
      "(16, 16)\n",
      "RGB\n",
      "PNG\n",
      "(16, 16)\n",
      "RGBA\n",
      "PNG\n",
      "(16, 16)\n",
      "RGB\n",
      "PNG\n",
      "(16, 16)\n",
      "RGB\n",
      "PNG\n",
      "(16, 16)\n",
      "RGB\n",
      "PNG\n",
      "(16, 16)\n",
      "RGB\n",
      "PNG\n",
      "(16, 16)\n",
      "RGB\n",
      "PNG\n",
      "(16, 16)\n",
      "RGB\n",
      "PNG\n",
      "(16, 16)\n",
      "RGB\n",
      "PNG\n",
      "(16, 16)\n",
      "RGB\n",
      "PNG\n",
      "(16, 16)\n",
      "RGB\n",
      "PNG\n",
      "(16, 16)\n",
      "RGB\n",
      "PNG\n",
      "(16, 16)\n",
      "RGB\n",
      "PNG\n",
      "(16, 16)\n",
      "RGB\n",
      "PNG\n",
      "(16, 16)\n",
      "RGB\n",
      "PNG\n",
      "(16, 16)\n",
      "RGB\n",
      "PNG\n",
      "(16, 16)\n",
      "RGB\n",
      "PNG\n",
      "(16, 16)\n",
      "RGB\n",
      "PNG\n",
      "(16, 16)\n",
      "RGB\n"
     ]
    }
   ],
   "source": [
    "for i in range(ord('A'), ord('Z')+1):\n",
    "    image = Image.open('Dataset1/'+chr(i)+str(1)+'.png')\n",
    "    print(image.format)\n",
    "    print(image.size)\n",
    "    print(image.mode)\n",
    "    img = image.convert('L')\n",
    "    bw = img.point(lambda x: 0 if x<180 else 1,'1')\n",
    "    bw.save('New/out'+chr(i)+str(1)+'.png')"
   ]
  },
  {
   "cell_type": "code",
   "execution_count": 3,
   "id": "069ef50a",
   "metadata": {},
   "outputs": [
    {
     "name": "stdout",
     "output_type": "stream",
     "text": [
      "PNG\n",
      "(16, 16)\n",
      "RGB\n",
      "PNG\n",
      "(16, 16)\n",
      "RGB\n",
      "PNG\n",
      "(16, 16)\n",
      "RGB\n",
      "PNG\n",
      "(16, 16)\n",
      "RGBA\n",
      "PNG\n",
      "(16, 16)\n",
      "RGBA\n",
      "PNG\n",
      "(16, 16)\n",
      "RGB\n",
      "PNG\n",
      "(16, 16)\n",
      "RGB\n",
      "PNG\n",
      "(16, 16)\n",
      "RGB\n",
      "PNG\n",
      "(16, 16)\n",
      "RGB\n",
      "PNG\n",
      "(16, 16)\n",
      "RGB\n"
     ]
    },
    {
     "data": {
      "image/png": "[encoded data removed]",
      "text/plain": [
       "<Figure size 432x288 with 1 Axes>"
      ]
     },
     "metadata": {
      "needs_background": "light"
     },
     "output_type": "display_data"
    }
   ],
   "source": [
    "for i in range(10):\n",
    "    image = Image.open('Dataset1/'+str(i)+str(1)+'.png')\n",
    "    print(image.format)\n",
    "    print(image.size)\n",
    "    print(image.mode)\n",
    "    img = image.convert('L')\n",
    "    bw = img.point(lambda x: 0 if x<185 else 1,'1')\n",
    "    bw.save('New/out'+str(i)+'1'+'.png')\n",
    "    plt.subplot\n",
    "    plt.title(\"original\")\n",
    "    plt.imshow(bw)\n"
   ]
  },
  {
   "cell_type": "code",
   "execution_count": null,
   "id": "4a818ac0",
   "metadata": {},
   "outputs": [],
   "source": []
  },
  {
   "cell_type": "code",
   "execution_count": 4,
   "id": "0a5fdffb",
   "metadata": {},
   "outputs": [],
   "source": [
    "import cv2\n",
    "d =list()\n",
    "# to append all the values.\n",
    "for i in range(10):\n",
    "    d.append((cv2.imread('New/out'+str(i)+'1'+'.png', cv2.IMREAD_UNCHANGED)).ravel())\n"
   ]
  },
  {
   "cell_type": "code",
   "execution_count": 5,
   "id": "c453ce57",
   "metadata": {},
   "outputs": [],
   "source": [
    "for i in range(ord('A'), ord('Z')+1):\n",
    "    d.append((cv2.imread('New/out'+chr(i)+str(1)+'.png',cv2.IMREAD_UNCHANGED)).ravel())"
   ]
  },
  {
   "cell_type": "code",
   "execution_count": 6,
   "id": "5ed2c410",
   "metadata": {},
   "outputs": [
    {
     "data": {
      "text/plain": [
       "256"
      ]
     },
     "execution_count": 6,
     "metadata": {},
     "output_type": "execute_result"
    }
   ],
   "source": [
    "len(d[30])"
   ]
  },
  {
   "cell_type": "code",
   "execution_count": 7,
   "id": "41b279b7",
   "metadata": {},
   "outputs": [
    {
     "data": {
      "text/plain": [
       "array([255, 255, 255, 255, 255, 255, 255, 255, 255, 255, 255, 255, 255,\n",
       "       255, 255, 255, 255,   0,   0,   0,   0,   0, 255, 255, 255, 255,\n",
       "         0,   0,   0,   0,   0, 255, 255,   0,   0,   0,   0,   0, 255,\n",
       "       255, 255, 255,   0,   0,   0,   0,   0, 255, 255,   0,   0,   0,\n",
       "         0,   0, 255, 255, 255, 255,   0,   0,   0,   0,   0, 255, 255,\n",
       "         0,   0,   0,   0,   0, 255, 255, 255, 255,   0,   0,   0,   0,\n",
       "         0, 255, 255,   0,   0,   0,   0,   0, 255, 255, 255, 255,   0,\n",
       "         0,   0,   0,   0, 255, 255,   0,   0,   0,   0,   0, 255, 255,\n",
       "       255, 255,   0,   0,   0,   0,   0, 255, 255,   0,   0,   0,   0,\n",
       "         0, 255, 255, 255, 255,   0,   0,   0,   0,   0, 255, 255,   0,\n",
       "         0,   0,   0,   0, 255, 255, 255, 255,   0,   0,   0,   0,   0,\n",
       "       255, 255,   0,   0,   0,   0,   0, 255, 255, 255, 255,   0,   0,\n",
       "         0,   0,   0, 255, 255,   0,   0,   0,   0,   0, 255, 255, 255,\n",
       "       255,   0,   0,   0,   0,   0, 255, 255,   0,   0,   0,   0,   0,\n",
       "         0, 255, 255,   0,   0,   0,   0,   0, 255, 255, 255, 255,   0,\n",
       "         0,   0,   0,   0,   0,   0,   0,   0,   0,   0,   0, 255, 255,\n",
       "       255, 255,   0,   0,   0,   0,   0,   0,   0,   0,   0,   0,   0,\n",
       "       255, 255, 255, 255, 255, 255,   0,   0,   0,   0,   0,   0,   0,\n",
       "         0,   0, 255, 255, 255, 255, 255, 255, 255, 255, 255, 255,   0,\n",
       "         0,   0,   0, 255, 255, 255, 255, 255, 255], dtype=uint8)"
      ]
     },
     "execution_count": 7,
     "metadata": {},
     "output_type": "execute_result"
    }
   ],
   "source": [
    "d[30]"
   ]
  },
  {
   "cell_type": "markdown",
   "id": "660ebe88",
   "metadata": {},
   "source": [
    "##Check the Image code\n",
    "\n",
    "temp=d[11]\n",
    "for an in range(256):\n",
    "    if(temp[an]==0):\n",
    "        temp[an]=255\n",
    "    else:\n",
    "        temp[an]=0  \n",
    "temp3 = np.reshape(temp,(16,16)) \n",
    "imm = Image.fromarray(temp3)\n",
    "if imm != 'RGB':\n",
    "    imm = imm.convert('RGB')\n",
    "\n",
    "imm.show()"
   ]
  },
  {
   "cell_type": "code",
   "execution_count": 8,
   "id": "df438f40",
   "metadata": {},
   "outputs": [
    {
     "name": "stderr",
     "output_type": "stream",
     "text": [
      "C:\\Users\\vvskm\\AppData\\Local\\Temp/ipykernel_30296/353784603.py:1: FutureWarning: arrays to stack must be passed as a \"sequence\" type such as list or tuple. Support for non-sequence iterables such as generators is deprecated as of NumPy 1.16 and will raise an error in the future.\n",
      "  c=np.row_stack(d.pop(0) for i in range(36))\n"
     ]
    }
   ],
   "source": [
    "c=np.row_stack(d.pop(0) for i in range(36))"
   ]
  },
  {
   "cell_type": "code",
   "execution_count": 9,
   "id": "efc46529",
   "metadata": {},
   "outputs": [
    {
     "data": {
      "text/plain": [
       "array([[255, 255, 255, ..., 255, 255, 255],\n",
       "       [255, 255, 255, ...,   0,   0, 255],\n",
       "       [255, 255, 255, ..., 255, 255, 255],\n",
       "       ...,\n",
       "       [255, 255, 255, ..., 255, 255, 255],\n",
       "       [255, 255, 255, ..., 255, 255, 255],\n",
       "       [255, 255,   0, ..., 255, 255, 255]], dtype=uint8)"
      ]
     },
     "execution_count": 9,
     "metadata": {},
     "output_type": "execute_result"
    }
   ],
   "source": [
    "c"
   ]
  },
  {
   "cell_type": "code",
   "execution_count": null,
   "id": "3b3e6704",
   "metadata": {},
   "outputs": [],
   "source": []
  },
  {
   "cell_type": "code",
   "execution_count": 10,
   "id": "18ca3e5f",
   "metadata": {},
   "outputs": [],
   "source": [
    "X=c\n",
    "y=c"
   ]
  },
  {
   "cell_type": "code",
   "execution_count": 11,
   "id": "854f6542",
   "metadata": {},
   "outputs": [],
   "source": [
    "for i in range(36):\n",
    "    for j in range(256):\n",
    "        if X[i][j]==255:\n",
    "            X[i][j]=1\n",
    "y=X"
   ]
  },
  {
   "cell_type": "code",
   "execution_count": 12,
   "id": "308fa8b0",
   "metadata": {},
   "outputs": [
    {
     "data": {
      "text/plain": [
       "(36, 256)"
      ]
     },
     "execution_count": 12,
     "metadata": {},
     "output_type": "execute_result"
    }
   ],
   "source": [
    "X.shape"
   ]
  },
  {
   "cell_type": "code",
   "execution_count": 13,
   "id": "717c5a95",
   "metadata": {},
   "outputs": [],
   "source": [
    "# model = Sequential()\n",
    "# model.add(Dense(256, input_dim = 256, activation='sigmoid'))\n",
    "# model.add(Dense(128,kernel_regularizer=regularizers.l2(0.001), activation='sigmoid'))\n",
    "# #model.add(Dense(64, activation='sigmoid'))\n",
    "# # model.add(Dense(128, activation='sigmoid'))\n",
    "# model.add(Dense(256,kernel_regularizer=regularizers.l2(0.001), activation='sigmoid'))\n",
    "# model.compile(loss='binary_crossentropy', optimizer='adam')"
   ]
  },
  {
   "cell_type": "code",
   "execution_count": 14,
   "id": "fd4766d1",
   "metadata": {},
   "outputs": [],
   "source": [
    "from keras import regularizers\n",
    "model = Sequential()\n",
    "model.add(Dense(256, input_dim = 256, activation='sigmoid'))\n",
    "model.add(Dense(128, activation='relu'))\n",
    "model.add(Dense(64, activation='relu'))\n",
    "model.add(Dense(128, activation='relu'))\n",
    "model.add(Dense(256, activation='sigmoid'))\n",
    "\n",
    "model.compile(loss='binary_crossentropy', optimizer='adam')"
   ]
  },
  {
   "cell_type": "code",
   "execution_count": 15,
   "id": "9360d94c",
   "metadata": {},
   "outputs": [
    {
     "name": "stdout",
     "output_type": "stream",
     "text": [
      "Epoch 1/100\n",
      "12/12 [==============================] - 0s 3ms/step - loss: 0.6623\n",
      "Epoch 2/100\n",
      "12/12 [==============================] - 0s 2ms/step - loss: 0.5807\n",
      "Epoch 3/100\n",
      "12/12 [==============================] - 0s 1ms/step - loss: 0.5386\n",
      "Epoch 4/100\n",
      "12/12 [==============================] - 0s 2ms/step - loss: 0.5210\n",
      "Epoch 5/100\n",
      "12/12 [==============================] - 0s 2ms/step - loss: 0.5111\n",
      "Epoch 6/100\n",
      "12/12 [==============================] - 0s 2ms/step - loss: 0.4978\n",
      "Epoch 7/100\n",
      "12/12 [==============================] - 0s 2ms/step - loss: 0.4770\n",
      "Epoch 8/100\n",
      "12/12 [==============================] - 0s 2ms/step - loss: 0.4545\n",
      "Epoch 9/100\n",
      "12/12 [==============================] - 0s 2ms/step - loss: 0.4358\n",
      "Epoch 10/100\n",
      "12/12 [==============================] - 0s 2ms/step - loss: 0.4222\n",
      "Epoch 11/100\n",
      "12/12 [==============================] - 0s 2ms/step - loss: 0.4102\n",
      "Epoch 12/100\n",
      "12/12 [==============================] - 0s 2ms/step - loss: 0.4006\n",
      "Epoch 13/100\n",
      "12/12 [==============================] - 0s 2ms/step - loss: 0.3862\n",
      "Epoch 14/100\n",
      "12/12 [==============================] - 0s 2ms/step - loss: 0.3721\n",
      "Epoch 15/100\n",
      "12/12 [==============================] - 0s 2ms/step - loss: 0.3517\n",
      "Epoch 16/100\n",
      "12/12 [==============================] - 0s 2ms/step - loss: 0.3351\n",
      "Epoch 17/100\n",
      "12/12 [==============================] - 0s 2ms/step - loss: 0.3152\n",
      "Epoch 18/100\n",
      "12/12 [==============================] - 0s 2ms/step - loss: 0.3030\n",
      "Epoch 19/100\n",
      "12/12 [==============================] - 0s 2ms/step - loss: 0.2947\n",
      "Epoch 20/100\n",
      "12/12 [==============================] - 0s 2ms/step - loss: 0.2857\n",
      "Epoch 21/100\n",
      "12/12 [==============================] - 0s 2ms/step - loss: 0.2725\n",
      "Epoch 22/100\n",
      "12/12 [==============================] - 0s 2ms/step - loss: 0.2623\n",
      "Epoch 23/100\n",
      "12/12 [==============================] - 0s 2ms/step - loss: 0.2535\n",
      "Epoch 24/100\n",
      "12/12 [==============================] - 0s 3ms/step - loss: 0.2437\n",
      "Epoch 25/100\n",
      "12/12 [==============================] - 0s 3ms/step - loss: 0.2327\n",
      "Epoch 26/100\n",
      "12/12 [==============================] - 0s 2ms/step - loss: 0.2190\n",
      "Epoch 27/100\n",
      "12/12 [==============================] - 0s 2ms/step - loss: 0.2119\n",
      "Epoch 28/100\n",
      "12/12 [==============================] - 0s 3ms/step - loss: 0.2030\n",
      "Epoch 29/100\n",
      "12/12 [==============================] - 0s 2ms/step - loss: 0.1889\n",
      "Epoch 30/100\n",
      "12/12 [==============================] - 0s 2ms/step - loss: 0.1760\n",
      "Epoch 31/100\n",
      "12/12 [==============================] - 0s 2ms/step - loss: 0.1677\n",
      "Epoch 32/100\n",
      "12/12 [==============================] - 0s 2ms/step - loss: 0.1560\n",
      "Epoch 33/100\n",
      "12/12 [==============================] - 0s 2ms/step - loss: 0.1492\n",
      "Epoch 34/100\n",
      "12/12 [==============================] - 0s 2ms/step - loss: 0.1390\n",
      "Epoch 35/100\n",
      "12/12 [==============================] - 0s 2ms/step - loss: 0.1278\n",
      "Epoch 36/100\n",
      "12/12 [==============================] - 0s 3ms/step - loss: 0.1205\n",
      "Epoch 37/100\n",
      "12/12 [==============================] - 0s 3ms/step - loss: 0.1129\n",
      "Epoch 38/100\n",
      "12/12 [==============================] - 0s 2ms/step - loss: 0.1044\n",
      "Epoch 39/100\n",
      "12/12 [==============================] - 0s 2ms/step - loss: 0.0965\n",
      "Epoch 40/100\n",
      "12/12 [==============================] - 0s 2ms/step - loss: 0.0916\n",
      "Epoch 41/100\n",
      "12/12 [==============================] - 0s 2ms/step - loss: 0.0803\n",
      "Epoch 42/100\n",
      "12/12 [==============================] - 0s 2ms/step - loss: 0.0788\n",
      "Epoch 43/100\n",
      "12/12 [==============================] - 0s 2ms/step - loss: 0.0754\n",
      "Epoch 44/100\n",
      "12/12 [==============================] - 0s 2ms/step - loss: 0.0704\n",
      "Epoch 45/100\n",
      "12/12 [==============================] - 0s 2ms/step - loss: 0.0626\n",
      "Epoch 46/100\n",
      "12/12 [==============================] - 0s 3ms/step - loss: 0.0560\n",
      "Epoch 47/100\n",
      "12/12 [==============================] - 0s 2ms/step - loss: 0.0517\n",
      "Epoch 48/100\n",
      "12/12 [==============================] - 0s 1ms/step - loss: 0.0472\n",
      "Epoch 49/100\n",
      "12/12 [==============================] - 0s 2ms/step - loss: 0.0441\n",
      "Epoch 50/100\n",
      "12/12 [==============================] - 0s 2ms/step - loss: 0.0409\n",
      "Epoch 51/100\n",
      "12/12 [==============================] - 0s 2ms/step - loss: 0.0362\n",
      "Epoch 52/100\n",
      "12/12 [==============================] - 0s 3ms/step - loss: 0.0324\n",
      "Epoch 53/100\n",
      "12/12 [==============================] - 0s 3ms/step - loss: 0.0299\n",
      "Epoch 54/100\n",
      "12/12 [==============================] - 0s 2ms/step - loss: 0.0262\n",
      "Epoch 55/100\n",
      "12/12 [==============================] - 0s 2ms/step - loss: 0.0243\n",
      "Epoch 56/100\n",
      "12/12 [==============================] - 0s 2ms/step - loss: 0.0212\n",
      "Epoch 57/100\n",
      "12/12 [==============================] - 0s 2ms/step - loss: 0.0202\n",
      "Epoch 58/100\n",
      "12/12 [==============================] - 0s 2ms/step - loss: 0.0188\n",
      "Epoch 59/100\n",
      "12/12 [==============================] - 0s 2ms/step - loss: 0.0170\n",
      "Epoch 60/100\n",
      "12/12 [==============================] - 0s 3ms/step - loss: 0.0154\n",
      "Epoch 61/100\n",
      "12/12 [==============================] - 0s 3ms/step - loss: 0.0133\n",
      "Epoch 62/100\n",
      "12/12 [==============================] - 0s 3ms/step - loss: 0.0123\n",
      "Epoch 63/100\n",
      "12/12 [==============================] - 0s 2ms/step - loss: 0.0107\n",
      "Epoch 64/100\n",
      "12/12 [==============================] - 0s 2ms/step - loss: 0.0099\n",
      "Epoch 65/100\n",
      "12/12 [==============================] - 0s 2ms/step - loss: 0.0096\n",
      "Epoch 66/100\n",
      "12/12 [==============================] - 0s 2ms/step - loss: 0.0091\n",
      "Epoch 67/100\n",
      "12/12 [==============================] - 0s 2ms/step - loss: 0.0083\n",
      "Epoch 68/100\n",
      "12/12 [==============================] - 0s 2ms/step - loss: 0.0077\n",
      "Epoch 69/100\n",
      "12/12 [==============================] - 0s 2ms/step - loss: 0.0069\n",
      "Epoch 70/100\n",
      "12/12 [==============================] - 0s 2ms/step - loss: 0.0064\n",
      "Epoch 71/100\n",
      "12/12 [==============================] - 0s 3ms/step - loss: 0.0060\n",
      "Epoch 72/100\n",
      "12/12 [==============================] - 0s 3ms/step - loss: 0.0057\n",
      "Epoch 73/100\n",
      "12/12 [==============================] - 0s 3ms/step - loss: 0.0050\n",
      "Epoch 74/100\n",
      "12/12 [==============================] - 0s 3ms/step - loss: 0.0049\n",
      "Epoch 75/100\n",
      "12/12 [==============================] - 0s 2ms/step - loss: 0.0045\n",
      "Epoch 76/100\n",
      "12/12 [==============================] - 0s 2ms/step - loss: 0.0040\n",
      "Epoch 77/100\n",
      "12/12 [==============================] - 0s 2ms/step - loss: 0.0039\n",
      "Epoch 78/100\n",
      "12/12 [==============================] - 0s 1ms/step - loss: 0.0035\n",
      "Epoch 79/100\n",
      "12/12 [==============================] - 0s 2ms/step - loss: 0.0033\n",
      "Epoch 80/100\n",
      "12/12 [==============================] - 0s 2ms/step - loss: 0.0031\n",
      "Epoch 81/100\n",
      "12/12 [==============================] - 0s 2ms/step - loss: 0.0030\n",
      "Epoch 82/100\n",
      "12/12 [==============================] - 0s 2ms/step - loss: 0.0028\n",
      "Epoch 83/100\n",
      "12/12 [==============================] - 0s 1ms/step - loss: 0.0027\n",
      "Epoch 84/100\n",
      "12/12 [==============================] - 0s 1ms/step - loss: 0.0025\n",
      "Epoch 85/100\n",
      "12/12 [==============================] - 0s 2ms/step - loss: 0.0025\n",
      "Epoch 86/100\n",
      "12/12 [==============================] - 0s 3ms/step - loss: 0.0023\n",
      "Epoch 87/100\n",
      "12/12 [==============================] - 0s 2ms/step - loss: 0.0021\n",
      "Epoch 88/100\n",
      "12/12 [==============================] - 0s 3ms/step - loss: 0.0021\n",
      "Epoch 89/100\n",
      "12/12 [==============================] - 0s 2ms/step - loss: 0.0020\n",
      "Epoch 90/100\n",
      "12/12 [==============================] - 0s 2ms/step - loss: 0.0019\n",
      "Epoch 91/100\n",
      "12/12 [==============================] - 0s 2ms/step - loss: 0.0018\n",
      "Epoch 92/100\n",
      "12/12 [==============================] - 0s 2ms/step - loss: 0.0017\n",
      "Epoch 93/100\n",
      "12/12 [==============================] - 0s 2ms/step - loss: 0.0017\n",
      "Epoch 94/100\n",
      "12/12 [==============================] - 0s 2ms/step - loss: 0.0016\n",
      "Epoch 95/100\n",
      "12/12 [==============================] - 0s 3ms/step - loss: 0.0015\n",
      "Epoch 96/100\n",
      "12/12 [==============================] - 0s 2ms/step - loss: 0.0015\n",
      "Epoch 97/100\n",
      "12/12 [==============================] - 0s 2ms/step - loss: 0.0014\n",
      "Epoch 98/100\n",
      "12/12 [==============================] - 0s 3ms/step - loss: 0.0013\n",
      "Epoch 99/100\n",
      "12/12 [==============================] - 0s 2ms/step - loss: 0.0013\n",
      "Epoch 100/100\n",
      "12/12 [==============================] - 0s 2ms/step - loss: 0.0012\n"
     ]
    },
    {
     "data": {
      "text/plain": [
       "<keras.callbacks.History at 0x1c388578d90>"
      ]
     },
     "execution_count": 15,
     "metadata": {},
     "output_type": "execute_result"
    }
   ],
   "source": [
    "model.fit(X, y, epochs=100, batch_size=3,verbose = True) "
   ]
  },
  {
   "cell_type": "code",
   "execution_count": 16,
   "id": "a842fd5a",
   "metadata": {},
   "outputs": [
    {
     "name": "stdout",
     "output_type": "stream",
     "text": [
      "2/2 [==============================] - 0s 0s/step - loss: 0.0012\n"
     ]
    }
   ],
   "source": [
    "accuracy=model.evaluate(X,y)"
   ]
  },
  {
   "cell_type": "code",
   "execution_count": 17,
   "id": "0265f54b",
   "metadata": {},
   "outputs": [
    {
     "data": {
      "text/plain": [
       "array([[1.0000000e+00, 1.0000000e+00, 9.9981499e-01, ..., 1.0000000e+00,\n",
       "        1.0000000e+00, 1.0000000e+00],\n",
       "       [1.0000000e+00, 1.0000000e+00, 1.0000000e+00, ..., 2.0968616e-03,\n",
       "        1.8941686e-05, 1.0000000e+00],\n",
       "       [1.0000000e+00, 1.0000000e+00, 9.9843156e-01, ..., 1.0000000e+00,\n",
       "        1.0000000e+00, 1.0000000e+00],\n",
       "       ...,\n",
       "       [1.0000000e+00, 1.0000000e+00, 1.0000000e+00, ..., 9.9467325e-01,\n",
       "        9.9999011e-01, 1.0000000e+00],\n",
       "       [1.0000000e+00, 1.0000000e+00, 1.0000000e+00, ..., 1.0000000e+00,\n",
       "        1.0000000e+00, 1.0000000e+00],\n",
       "       [1.0000000e+00, 1.0000000e+00, 8.6376071e-04, ..., 1.0000000e+00,\n",
       "        1.0000000e+00, 1.0000000e+00]], dtype=float32)"
      ]
     },
     "execution_count": 17,
     "metadata": {},
     "output_type": "execute_result"
    }
   ],
   "source": [
    "temp_out = model.predict(X) #prediction of model on trained data X\n",
    "temp_out"
   ]
  },
  {
   "cell_type": "code",
   "execution_count": 22,
   "id": "f85b3421",
   "metadata": {},
   "outputs": [],
   "source": [
    "def thresholdcheck(temp_out):\n",
    "    \n",
    "    Y = []\n",
    "    for i in temp_out:\n",
    "        temp = []\n",
    "        for j in i:\n",
    "            if j > 0.8:\n",
    "                temp.append(1)\n",
    "            else:\n",
    "                temp.append(0)\n",
    "\n",
    "        Y.append(temp)\n",
    "    return Y\n",
    "Y=thresholdcheck(temp_out)\n"
   ]
  },
  {
   "cell_type": "code",
   "execution_count": 23,
   "id": "e4facac1",
   "metadata": {},
   "outputs": [],
   "source": [
    "temp = Y[10]\n",
    "for an in range(256):\n",
    "    if(temp[an]==0):\n",
    "        temp[an]=255\n",
    "    else:\n",
    "        temp[an]=0  \n",
    "temp3 = np.reshape(temp,(16,16)) \n",
    "imm = Image.fromarray(temp3)\n",
    "if imm != 'RGB':\n",
    "    imm = imm.convert('RGB')\n",
    "\n",
    "imm.show()"
   ]
  },
  {
   "cell_type": "code",
   "execution_count": 20,
   "id": "87d08436",
   "metadata": {},
   "outputs": [
    {
     "data": {
      "image/png": "[encoded data removed]",
      "text/plain": [
       "<Figure size 432x288 with 1 Axes>"
      ]
     },
     "metadata": {
      "needs_background": "light"
     },
     "output_type": "display_data"
    }
   ],
   "source": [
    "#Step-4b\n",
    "#Computing metrics Fh, Ffa\n",
    "\n",
    "\n",
    "\n",
    "def findFh(expected, actual):\n",
    "    fhvalues = []\n",
    "    for i in range(len(expected)):\n",
    "        fh=0\n",
    "        ffa=0\n",
    "        for j in range(256):\n",
    "            if(expected[i][j]==0 and actual[i][j]==0):\n",
    "                fh+=1\n",
    "\n",
    "        ffad = cv2.countNonZero(expected[i]) #ones - white\n",
    "        ffhd = 256-ffad #zeros - black\n",
    "        \n",
    "        fhvalues.append(fh/ffhd)\n",
    "    return fhvalues\n",
    "\n",
    "\n",
    "def findFfa(expected, actual):\n",
    "    ffavalues = []\n",
    "    for i in range(len(expected)):\n",
    "        ffa=0\n",
    "        for j in range(256):\n",
    "            if (actual[i][j] == 0) and (expected[i][j] != 0):\n",
    "                ffa += 1\n",
    "        ffhd = cv2.countNonZero(expected[i])\n",
    "        ffavalues.append(ffa/ffhd)\n",
    "    return ffavalues\n",
    "\n",
    "def drawplot(xvalues,yvalues,title):\n",
    "    plt.scatter(xvalues, yvalues)\n",
    "    plt.title(title)\n",
    "    plt.xlabel(\"Ffa\")\n",
    "    plt.ylabel(\"Fh\")\n",
    "    plt.show()\n",
    "    \n",
    "\n",
    "\n",
    "Fhvalues = findFh(X, Y)\n",
    "Ffavalues = findFfa(X, Y)\n",
    "\n",
    "\n",
    "\n",
    "#Step-4c\n",
    "\n",
    "drawplot(Ffavalues,Fhvalues,\"Ffa Vs Fh\")\n",
    "\n",
    "\n",
    "\n"
   ]
  },
  {
   "cell_type": "code",
   "execution_count": 21,
   "id": "b7896b0d",
   "metadata": {},
   "outputs": [
    {
     "data": {
      "image/png": "[encoded data removed]",
      "text/plain": [
       "<Figure size 432x288 with 1 Axes>"
      ]
     },
     "metadata": {
      "needs_background": "light"
     },
     "output_type": "display_data"
    },
    {
     "data": {
      "image/png": "[encoded data removed]",
      "text/plain": [
       "<Figure size 432x288 with 1 Axes>"
      ]
     },
     "metadata": {
      "needs_background": "light"
     },
     "output_type": "display_data"
    },
    {
     "data": {
      "image/png": "[encoded data removed]",
      "text/plain": [
       "<Figure size 432x288 with 1 Axes>"
      ]
     },
     "metadata": {
      "needs_background": "light"
     },
     "output_type": "display_data"
    },
    {
     "data": {
      "image/png": "[encoded data removed]",
      "text/plain": [
       "<Figure size 432x288 with 1 Axes>"
      ]
     },
     "metadata": {
      "needs_background": "light"
     },
     "output_type": "display_data"
    },
    {
     "data": {
      "image/png": "[encoded data removed]",
      "text/plain": [
       "<Figure size 432x288 with 1 Axes>"
      ]
     },
     "metadata": {
      "needs_background": "light"
     },
     "output_type": "display_data"
    },
    {
     "data": {
      "image/png": "[encoded data removed]",
      "text/plain": [
       "<Figure size 432x288 with 1 Axes>"
      ]
     },
     "metadata": {
      "needs_background": "light"
     },
     "output_type": "display_data"
    },
    {
     "data": {
      "image/png": "[encoded data removed]",
      "text/plain": [
       "<Figure size 432x288 with 1 Axes>"
      ]
     },
     "metadata": {
      "needs_background": "light"
     },
     "output_type": "display_data"
    },
    {
     "data": {
      "image/png": "[encoded data removed]",
      "text/plain": [
       "<Figure size 432x288 with 1 Axes>"
      ]
     },
     "metadata": {
      "needs_background": "light"
     },
     "output_type": "display_data"
    },
    {
     "data": {
      "image/png": "[encoded data removed]",
      "text/plain": [
       "<Figure size 432x288 with 1 Axes>"
      ]
     },
     "metadata": {
      "needs_background": "light"
     },
     "output_type": "display_data"
    }
   ],
   "source": [
    " #creating noisy images\n",
    "def Perturb(actualimages, mean, std_dev):\n",
    "    NoisyImages = []\n",
    "    \n",
    "    for i in actualimages:\n",
    "        Image = i\n",
    "        \n",
    "        mean, std_dev = mean, std_dev\n",
    "\n",
    "        sampleimg = numpy.random.normal(mean, std_dev, 25)\n",
    "\n",
    "        indexes = random.sample(range(0, 255), 25)\n",
    "        \n",
    "        sampleIndex = 0\n",
    "        \n",
    "        for j in indexes:\n",
    "            Image[j] += sampleimg[sampleIndex]\n",
    "            sampleIndex += 1\n",
    "        NoisyImages.append(Image)\n",
    "        \n",
    "    return thresholdcheck(NoisyImages)\n",
    "\n",
    "\n",
    "stdDevs = [0.001, 0.002, 0.003, 0.005, 0.01, 0.02, 0.03, 0.05, 0.1]\n",
    "\n",
    "FhArrays = []\n",
    "FfaArrays = []\n",
    "\n",
    "for i in stdDevs:\n",
    "    Noisyimgs = numpy.array(Perturb(X, 0, i))\n",
    "    \n",
    "    \n",
    "    Fhvalues = findFh(Noisyimgs, Y)\n",
    "    Ffavalues = findFfa(Noisyimgs, Y)\n",
    "\n",
    "    drawplot(Ffavalues,Fhvalues,\"Ffa Vs Fh at Std Dev(noisy) = \" + str(i))\n",
    "\n",
    "    \n",
    "    \n",
    "    FhArrays.append(Fhvalues)\n",
    "    FfaArrays.append(Ffavalues)\n",
    "\n",
    "\n",
    "\n"
   ]
  },
  {
   "cell_type": "code",
   "execution_count": null,
   "id": "b72a40bb",
   "metadata": {},
   "outputs": [],
   "source": []
  }
 ],
 "metadata": {
  "kernelspec": {
   "display_name": "Python 3 (ipykernel)",
   "language": "python",
   "name": "python3"
  },
  "language_info": {
   "codemirror_mode": {
    "name": "ipython",
    "version": 3
   },
   "file_extension": ".py",
   "mimetype": "text/x-python",
   "name": "python",
   "nbconvert_exporter": "python",
   "pygments_lexer": "ipython3",
   "version": "3.9.7"
  }
 },
 "nbformat": 4,
 "nbformat_minor": 5
}
