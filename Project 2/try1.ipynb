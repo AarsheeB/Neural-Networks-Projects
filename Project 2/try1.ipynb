{
 "cells": [
  {
   "cell_type": "code",
   "execution_count": 55,
   "id": "61237136",
   "metadata": {},
   "outputs": [],
   "source": [
    "import matplotlib.pyplot as py\n",
    "from PIL import Image\n",
    "import numpy as np\n",
    "import matplotlib.pyplot as plt\n",
    "from math import *\n",
    "import math\n",
    "from keras.models import Sequential\n",
    "from keras.layers import Dense\n",
    "import numpy\n",
    "import random\n",
    " \n"
   ]
  },
  {
   "cell_type": "code",
   "execution_count": 56,
   "id": "9a7f3d13",
   "metadata": {},
   "outputs": [
    {
     "name": "stdout",
     "output_type": "stream",
     "text": [
      "PNG\n",
      "(16, 16)\n",
      "RGB\n",
      "PNG\n",
      "(16, 16)\n",
      "RGB\n",
      "PNG\n",
      "(16, 16)\n",
      "RGB\n",
      "PNG\n",
      "(16, 16)\n",
      "RGB\n",
      "PNG\n",
      "(16, 16)\n",
      "RGB\n",
      "PNG\n",
      "(16, 16)\n",
      "RGB\n",
      "PNG\n",
      "(16, 16)\n",
      "RGB\n",
      "PNG\n",
      "(16, 16)\n",
      "RGB\n",
      "PNG\n",
      "(16, 16)\n",
      "RGBA\n",
      "PNG\n",
      "(16, 16)\n",
      "RGB\n",
      "PNG\n",
      "(16, 16)\n",
      "RGB\n",
      "PNG\n",
      "(16, 16)\n",
      "RGB\n",
      "PNG\n",
      "(16, 16)\n",
      "RGB\n",
      "PNG\n",
      "(16, 16)\n",
      "RGB\n",
      "PNG\n",
      "(16, 16)\n",
      "RGB\n",
      "PNG\n",
      "(16, 16)\n",
      "RGB\n",
      "PNG\n",
      "(16, 16)\n",
      "RGB\n",
      "PNG\n",
      "(16, 16)\n",
      "RGB\n",
      "PNG\n",
      "(16, 16)\n",
      "RGB\n",
      "PNG\n",
      "(16, 16)\n",
      "RGB\n",
      "PNG\n",
      "(16, 16)\n",
      "RGB\n",
      "PNG\n",
      "(16, 16)\n",
      "RGB\n",
      "PNG\n",
      "(16, 16)\n",
      "RGB\n",
      "PNG\n",
      "(16, 16)\n",
      "RGB\n",
      "PNG\n",
      "(16, 16)\n",
      "RGB\n",
      "PNG\n",
      "(16, 16)\n",
      "RGB\n"
     ]
    }
   ],
   "source": [
    "for i in range(ord('A'), ord('Z')+1):\n",
    "    image = Image.open('Dataset1/'+chr(i)+str(1)+'.png')\n",
    "    print(image.format)\n",
    "    print(image.size)\n",
    "    print(image.mode)\n",
    "    img = image.convert('L')\n",
    "    bw = img.point(lambda x: 0 if x<180 else 1,'1')\n",
    "    bw.save('New/out'+chr(i)+str(1)+'.png')"
   ]
  },
  {
   "cell_type": "code",
   "execution_count": 57,
   "id": "069ef50a",
   "metadata": {},
   "outputs": [
    {
     "name": "stdout",
     "output_type": "stream",
     "text": [
      "PNG\n",
      "(16, 16)\n",
      "RGB\n",
      "PNG\n",
      "(16, 16)\n",
      "RGB\n",
      "PNG\n",
      "(16, 16)\n",
      "RGB\n",
      "PNG\n",
      "(16, 16)\n",
      "RGBA\n",
      "PNG\n",
      "(16, 16)\n",
      "RGBA\n",
      "PNG\n",
      "(16, 16)\n",
      "RGB\n",
      "PNG\n",
      "(16, 16)\n",
      "RGB\n",
      "PNG\n",
      "(16, 16)\n",
      "RGB\n",
      "PNG\n",
      "(16, 16)\n",
      "RGB\n",
      "PNG\n",
      "(16, 16)\n",
      "RGB\n"
     ]
    },
    {
     "data": {
      "image/png": "[encoded data removed]",
      "text/plain": [
       "<Figure size 432x288 with 1 Axes>"
      ]
     },
     "metadata": {
      "needs_background": "light"
     },
     "output_type": "display_data"
    }
   ],
   "source": [
    "for i in range(10):\n",
    "    image = Image.open('Dataset1/'+str(i)+str(1)+'.png')\n",
    "    print(image.format)\n",
    "    print(image.size)\n",
    "    print(image.mode)\n",
    "    img = image.convert('L')\n",
    "    bw = img.point(lambda x: 0 if x<185 else 1,'1')\n",
    "    bw.save('New/out'+str(i)+'1'+'.png')\n",
    "    plt.subplot\n",
    "    plt.title(\"original\")\n",
    "    plt.imshow(bw)\n"
   ]
  },
  {
   "cell_type": "code",
   "execution_count": null,
   "id": "4a818ac0",
   "metadata": {},
   "outputs": [],
   "source": []
  },
  {
   "cell_type": "code",
   "execution_count": 144,
   "id": "0a5fdffb",
   "metadata": {},
   "outputs": [],
   "source": [
    "import cv2\n",
    "d =list()\n",
    "# to append all the values.\n",
    "for i in range(10):\n",
    "    d.append((cv2.imread('New/out'+str(i)+'1'+'.png', cv2.IMREAD_UNCHANGED)).ravel())\n"
   ]
  },
  {
   "cell_type": "code",
   "execution_count": 145,
   "id": "c453ce57",
   "metadata": {},
   "outputs": [],
   "source": [
    "for i in range(ord('A'), ord('Z')+1):\n",
    "    d.append((cv2.imread('New/out'+chr(i)+str(1)+'.png',cv2.IMREAD_UNCHANGED)).ravel())"
   ]
  },
  {
   "cell_type": "code",
   "execution_count": 146,
   "id": "d6b7f3b3",
   "metadata": {},
   "outputs": [
    {
     "data": {
      "text/plain": [
       "256"
      ]
     },
     "execution_count": 146,
     "metadata": {},
     "output_type": "execute_result"
    }
   ],
   "source": [
    "len(d[30])"
   ]
  },
  {
   "cell_type": "code",
   "execution_count": 147,
   "id": "684381f0",
   "metadata": {},
   "outputs": [
    {
     "data": {
      "text/plain": [
       "array([255, 255, 255, 255, 255, 255, 255, 255, 255, 255, 255, 255, 255,\n",
       "       255, 255, 255, 255,   0,   0,   0,   0,   0, 255, 255, 255, 255,\n",
       "         0,   0,   0,   0,   0, 255, 255,   0,   0,   0,   0,   0, 255,\n",
       "       255, 255, 255,   0,   0,   0,   0,   0, 255, 255,   0,   0,   0,\n",
       "         0,   0, 255, 255, 255, 255,   0,   0,   0,   0,   0, 255, 255,\n",
       "         0,   0,   0,   0,   0, 255, 255, 255, 255,   0,   0,   0,   0,\n",
       "         0, 255, 255,   0,   0,   0,   0,   0, 255, 255, 255, 255,   0,\n",
       "         0,   0,   0,   0, 255, 255,   0,   0,   0,   0,   0, 255, 255,\n",
       "       255, 255,   0,   0,   0,   0,   0, 255, 255,   0,   0,   0,   0,\n",
       "         0, 255, 255, 255, 255,   0,   0,   0,   0,   0, 255, 255,   0,\n",
       "         0,   0,   0,   0, 255, 255, 255, 255,   0,   0,   0,   0,   0,\n",
       "       255, 255,   0,   0,   0,   0,   0, 255, 255, 255, 255,   0,   0,\n",
       "         0,   0,   0, 255, 255,   0,   0,   0,   0,   0, 255, 255, 255,\n",
       "       255,   0,   0,   0,   0,   0, 255, 255,   0,   0,   0,   0,   0,\n",
       "         0, 255, 255,   0,   0,   0,   0,   0, 255, 255, 255, 255,   0,\n",
       "         0,   0,   0,   0,   0,   0,   0,   0,   0,   0,   0, 255, 255,\n",
       "       255, 255,   0,   0,   0,   0,   0,   0,   0,   0,   0,   0,   0,\n",
       "       255, 255, 255, 255, 255, 255,   0,   0,   0,   0,   0,   0,   0,\n",
       "         0,   0, 255, 255, 255, 255, 255, 255, 255, 255, 255, 255,   0,\n",
       "         0,   0,   0, 255, 255, 255, 255, 255, 255], dtype=uint8)"
      ]
     },
     "execution_count": 147,
     "metadata": {},
     "output_type": "execute_result"
    }
   ],
   "source": [
    "d[30]"
   ]
  },
  {
   "cell_type": "markdown",
   "id": "a1ed2d8f",
   "metadata": {},
   "source": [
    "##Check the Image code\n",
    "\n",
    "temp=d[11]\n",
    "for an in range(256):\n",
    "    if(temp[an]==0):\n",
    "        temp[an]=255\n",
    "    else:\n",
    "        temp[an]=0  \n",
    "temp3 = np.reshape(temp,(16,16)) \n",
    "imm = Image.fromarray(temp3)\n",
    "if imm != 'RGB':\n",
    "    imm = imm.convert('RGB')\n",
    "\n",
    "imm.show()"
   ]
  },
  {
   "cell_type": "code",
   "execution_count": 62,
   "id": "34f175e3",
   "metadata": {},
   "outputs": [
    {
     "name": "stderr",
     "output_type": "stream",
     "text": [
      "C:\\Users\\vvskm\\AppData\\Local\\Temp/ipykernel_17552/353784603.py:1: FutureWarning: arrays to stack must be passed as a \"sequence\" type such as list or tuple. Support for non-sequence iterables such as generators is deprecated as of NumPy 1.16 and will raise an error in the future.\n",
      "  c=np.row_stack(d.pop(0) for i in range(36))\n"
     ]
    }
   ],
   "source": [
    "c=np.row_stack(d.pop(0) for i in range(36))"
   ]
  },
  {
   "cell_type": "code",
   "execution_count": 63,
   "id": "24ef3baa",
   "metadata": {},
   "outputs": [
    {
     "data": {
      "text/plain": [
       "array([[255, 255, 255, ..., 255, 255, 255],\n",
       "       [255, 255, 255, ...,   0,   0, 255],\n",
       "       [255, 255, 255, ..., 255, 255, 255],\n",
       "       ...,\n",
       "       [255, 255, 255, ..., 255, 255, 255],\n",
       "       [255, 255, 255, ..., 255, 255, 255],\n",
       "       [255, 255,   0, ..., 255, 255, 255]], dtype=uint8)"
      ]
     },
     "execution_count": 63,
     "metadata": {},
     "output_type": "execute_result"
    }
   ],
   "source": [
    "c"
   ]
  },
  {
   "cell_type": "code",
   "execution_count": 68,
   "id": "cb3a1033",
   "metadata": {},
   "outputs": [
    {
     "data": {
      "text/plain": [
       "array([[1, 1, 1, ..., 1, 1, 1],\n",
       "       [1, 1, 1, ..., 0, 0, 1],\n",
       "       [1, 1, 1, ..., 1, 1, 1],\n",
       "       ...,\n",
       "       [1, 1, 1, ..., 1, 1, 1],\n",
       "       [1, 1, 1, ..., 1, 1, 1],\n",
       "       [1, 1, 0, ..., 1, 1, 1]], dtype=uint8)"
      ]
     },
     "execution_count": 68,
     "metadata": {},
     "output_type": "execute_result"
    }
   ],
   "source": [
    "X"
   ]
  },
  {
   "cell_type": "code",
   "execution_count": 69,
   "id": "d7397380",
   "metadata": {},
   "outputs": [],
   "source": [
    "X=c\n",
    "y=c"
   ]
  },
  {
   "cell_type": "code",
   "execution_count": 70,
   "id": "649123bf",
   "metadata": {},
   "outputs": [],
   "source": [
    "for i in range(36):\n",
    "    for j in range(256):\n",
    "        if X[i][j]==255:\n",
    "            X[i][j]=1\n",
    "y=X"
   ]
  },
  {
   "cell_type": "code",
   "execution_count": 71,
   "id": "bce20f22",
   "metadata": {},
   "outputs": [
    {
     "data": {
      "text/plain": [
       "(36, 256)"
      ]
     },
     "execution_count": 71,
     "metadata": {},
     "output_type": "execute_result"
    }
   ],
   "source": [
    "X.shape"
   ]
  },
  {
   "cell_type": "code",
   "execution_count": 72,
   "id": "b9294063",
   "metadata": {},
   "outputs": [],
   "source": [
    "# model = Sequential()\n",
    "# model.add(Dense(256, input_dim = 256, activation='sigmoid'))\n",
    "# model.add(Dense(128,kernel_regularizer=regularizers.l2(0.001), activation='sigmoid'))\n",
    "# #model.add(Dense(64, activation='sigmoid'))\n",
    "# # model.add(Dense(128, activation='sigmoid'))\n",
    "# model.add(Dense(256,kernel_regularizer=regularizers.l2(0.001), activation='sigmoid'))\n",
    "# model.compile(loss='binary_crossentropy', optimizer='adam')"
   ]
  },
  {
   "cell_type": "code",
   "execution_count": 75,
   "id": "1af45a8b",
   "metadata": {},
   "outputs": [],
   "source": [
    "from keras import regularizers\n",
    "model = Sequential()\n",
    "model.add(Dense(256, input_dim = 256, activation='sigmoid'))\n",
    "model.add(Dense(128, activation='relu'))\n",
    "model.add(Dense(64, activation='relu'))\n",
    "model.add(Dense(128, activation='relu'))\n",
    "model.add(Dense(256, activation='sigmoid'))\n",
    "\n",
    "model.compile(loss='binary_crossentropy', optimizer='adam')"
   ]
  },
  {
   "cell_type": "code",
   "execution_count": 76,
   "id": "75df8b2d",
   "metadata": {},
   "outputs": [
    {
     "name": "stdout",
     "output_type": "stream",
     "text": [
      "Epoch 1/50\n",
      "18/18 [==============================] - 1s 3ms/step - loss: 0.6564\n",
      "Epoch 2/50\n",
      "18/18 [==============================] - 0s 4ms/step - loss: 0.5573\n",
      "Epoch 3/50\n",
      "18/18 [==============================] - 0s 4ms/step - loss: 0.5300\n",
      "Epoch 4/50\n",
      "18/18 [==============================] - 0s 3ms/step - loss: 0.5188\n",
      "Epoch 5/50\n",
      "18/18 [==============================] - 0s 4ms/step - loss: 0.5048\n",
      "Epoch 6/50\n",
      "18/18 [==============================] - 0s 4ms/step - loss: 0.4791\n",
      "Epoch 7/50\n",
      "18/18 [==============================] - 0s 4ms/step - loss: 0.4554\n",
      "Epoch 8/50\n",
      "18/18 [==============================] - 0s 4ms/step - loss: 0.4372\n",
      "Epoch 9/50\n",
      "18/18 [==============================] - 0s 3ms/step - loss: 0.4232\n",
      "Epoch 10/50\n",
      "18/18 [==============================] - 0s 4ms/step - loss: 0.4105\n",
      "Epoch 11/50\n",
      "18/18 [==============================] - 0s 4ms/step - loss: 0.4003\n",
      "Epoch 12/50\n",
      "18/18 [==============================] - 0s 4ms/step - loss: 0.3864\n",
      "Epoch 13/50\n",
      "18/18 [==============================] - 0s 4ms/step - loss: 0.3692\n",
      "Epoch 14/50\n",
      "18/18 [==============================] - 0s 4ms/step - loss: 0.3546\n",
      "Epoch 15/50\n",
      "18/18 [==============================] - 0s 4ms/step - loss: 0.3340\n",
      "Epoch 16/50\n",
      "18/18 [==============================] - 0s 3ms/step - loss: 0.3089\n",
      "Epoch 17/50\n",
      "18/18 [==============================] - 0s 3ms/step - loss: 0.2892\n",
      "Epoch 18/50\n",
      "18/18 [==============================] - 0s 3ms/step - loss: 0.2781\n",
      "Epoch 19/50\n",
      "18/18 [==============================] - 0s 4ms/step - loss: 0.2596\n",
      "Epoch 20/50\n",
      "18/18 [==============================] - 0s 4ms/step - loss: 0.2356\n",
      "Epoch 21/50\n",
      "18/18 [==============================] - 0s 4ms/step - loss: 0.2192\n",
      "Epoch 22/50\n",
      "18/18 [==============================] - 0s 3ms/step - loss: 0.2070\n",
      "Epoch 23/50\n",
      "18/18 [==============================] - 0s 3ms/step - loss: 0.1896\n",
      "Epoch 24/50\n",
      "18/18 [==============================] - 0s 4ms/step - loss: 0.1789\n",
      "Epoch 25/50\n",
      "18/18 [==============================] - 0s 4ms/step - loss: 0.1648\n",
      "Epoch 26/50\n",
      "18/18 [==============================] - 0s 4ms/step - loss: 0.1546\n",
      "Epoch 27/50\n",
      "18/18 [==============================] - 0s 3ms/step - loss: 0.1495\n",
      "Epoch 28/50\n",
      "18/18 [==============================] - 0s 4ms/step - loss: 0.1408\n",
      "Epoch 29/50\n",
      "18/18 [==============================] - 0s 3ms/step - loss: 0.1347\n",
      "Epoch 30/50\n",
      "18/18 [==============================] - 0s 3ms/step - loss: 0.1144\n",
      "Epoch 31/50\n",
      "18/18 [==============================] - 0s 4ms/step - loss: 0.1018\n",
      "Epoch 32/50\n",
      "18/18 [==============================] - 0s 4ms/step - loss: 0.0962\n",
      "Epoch 33/50\n",
      "18/18 [==============================] - 0s 3ms/step - loss: 0.0889\n",
      "Epoch 34/50\n",
      "18/18 [==============================] - 0s 3ms/step - loss: 0.0891\n",
      "Epoch 35/50\n",
      "18/18 [==============================] - 0s 3ms/step - loss: 0.0819\n",
      "Epoch 36/50\n",
      "18/18 [==============================] - 0s 4ms/step - loss: 0.0701\n",
      "Epoch 37/50\n",
      "18/18 [==============================] - 0s 3ms/step - loss: 0.0616\n",
      "Epoch 38/50\n",
      "18/18 [==============================] - 0s 3ms/step - loss: 0.0562\n",
      "Epoch 39/50\n",
      "18/18 [==============================] - 0s 4ms/step - loss: 0.0472\n",
      "Epoch 40/50\n",
      "18/18 [==============================] - 0s 3ms/step - loss: 0.0416\n",
      "Epoch 41/50\n",
      "18/18 [==============================] - 0s 4ms/step - loss: 0.0388\n",
      "Epoch 42/50\n",
      "18/18 [==============================] - 0s 4ms/step - loss: 0.0367\n",
      "Epoch 43/50\n",
      "18/18 [==============================] - 0s 3ms/step - loss: 0.0329\n",
      "Epoch 44/50\n",
      "18/18 [==============================] - 0s 4ms/step - loss: 0.0304\n",
      "Epoch 45/50\n",
      "18/18 [==============================] - 0s 4ms/step - loss: 0.0272\n",
      "Epoch 46/50\n",
      "18/18 [==============================] - 0s 4ms/step - loss: 0.0236\n",
      "Epoch 47/50\n",
      "18/18 [==============================] - 0s 4ms/step - loss: 0.0204\n",
      "Epoch 48/50\n",
      "18/18 [==============================] - 0s 4ms/step - loss: 0.0183\n",
      "Epoch 49/50\n",
      "18/18 [==============================] - 0s 3ms/step - loss: 0.0149\n",
      "Epoch 50/50\n",
      "18/18 [==============================] - 0s 3ms/step - loss: 0.0133\n"
     ]
    },
    {
     "data": {
      "text/plain": [
       "<keras.callbacks.History at 0x2ada22f6850>"
      ]
     },
     "execution_count": 76,
     "metadata": {},
     "output_type": "execute_result"
    }
   ],
   "source": [
    "model.fit(X, y, epochs=50, batch_size=2,verbose = True) "
   ]
  },
  {
   "cell_type": "code",
   "execution_count": 77,
   "id": "4734790a",
   "metadata": {},
   "outputs": [
    {
     "name": "stdout",
     "output_type": "stream",
     "text": [
      "2/2 [==============================] - 0s 16ms/step - loss: 0.0106\n"
     ]
    }
   ],
   "source": [
    "accuracy=model.evaluate(X,y)"
   ]
  },
  {
   "cell_type": "code",
   "execution_count": 96,
   "id": "ff7d1734",
   "metadata": {},
   "outputs": [
    {
     "data": {
      "text/plain": [
       "array([[1.        , 0.99997616, 0.7781856 , ..., 1.        , 1.        ,\n",
       "        1.        ],\n",
       "       [0.99998254, 1.        , 0.9999989 , ..., 0.0366714 , 0.00947413,\n",
       "        1.        ],\n",
       "       [0.9999999 , 0.9999975 , 0.9720205 , ..., 0.99985933, 0.99966764,\n",
       "        1.        ],\n",
       "       ...,\n",
       "       [1.        , 1.        , 0.99999917, ..., 0.99357855, 0.99653196,\n",
       "        1.        ],\n",
       "       [1.        , 1.        , 0.9999999 , ..., 1.        , 0.9998107 ,\n",
       "        1.        ],\n",
       "       [0.9999945 , 0.99995923, 0.28707308, ..., 0.9999943 , 0.9999896 ,\n",
       "        1.        ]], dtype=float32)"
      ]
     },
     "execution_count": 96,
     "metadata": {},
     "output_type": "execute_result"
    }
   ],
   "source": [
    "temp_out = model.predict(X) #prediction of model on trained data X\n",
    "temp_out"
   ]
  },
  {
   "cell_type": "code",
   "execution_count": 97,
   "id": "2b9e2472",
   "metadata": {},
   "outputs": [],
   "source": [
    "def thresholdcheck(temp_out):\n",
    "    \n",
    "    Y = []\n",
    "    for i in temp_out:\n",
    "        temp = []\n",
    "        for j in i:\n",
    "            if j > 0.5:\n",
    "                temp.append(1)\n",
    "            else:\n",
    "                temp.append(0)\n",
    "\n",
    "        Y.append(temp)\n",
    "    return Y\n",
    "Y=thresholdcheck(temp_out)\n"
   ]
  },
  {
   "cell_type": "code",
   "execution_count": 98,
   "id": "647230f0",
   "metadata": {},
   "outputs": [
    {
     "data": {
      "text/plain": [
       "[1,\n",
       " 1,\n",
       " 1,\n",
       " 1,\n",
       " 1,\n",
       " 1,\n",
       " 1,\n",
       " 1,\n",
       " 1,\n",
       " 1,\n",
       " 1,\n",
       " 1,\n",
       " 1,\n",
       " 1,\n",
       " 1,\n",
       " 1,\n",
       " 1,\n",
       " 1,\n",
       " 1,\n",
       " 0,\n",
       " 1,\n",
       " 0,\n",
       " 0,\n",
       " 0,\n",
       " 0,\n",
       " 0,\n",
       " 0,\n",
       " 1,\n",
       " 1,\n",
       " 1,\n",
       " 1,\n",
       " 1,\n",
       " 1,\n",
       " 1,\n",
       " 1,\n",
       " 1,\n",
       " 1,\n",
       " 0,\n",
       " 0,\n",
       " 0,\n",
       " 0,\n",
       " 0,\n",
       " 0,\n",
       " 1,\n",
       " 1,\n",
       " 1,\n",
       " 1,\n",
       " 1,\n",
       " 1,\n",
       " 1,\n",
       " 1,\n",
       " 1,\n",
       " 1,\n",
       " 0,\n",
       " 0,\n",
       " 0,\n",
       " 0,\n",
       " 0,\n",
       " 0,\n",
       " 1,\n",
       " 1,\n",
       " 1,\n",
       " 1,\n",
       " 1,\n",
       " 1,\n",
       " 1,\n",
       " 1,\n",
       " 1,\n",
       " 0,\n",
       " 0,\n",
       " 1,\n",
       " 0,\n",
       " 0,\n",
       " 0,\n",
       " 0,\n",
       " 1,\n",
       " 1,\n",
       " 1,\n",
       " 1,\n",
       " 1,\n",
       " 1,\n",
       " 1,\n",
       " 1,\n",
       " 1,\n",
       " 0,\n",
       " 0,\n",
       " 0,\n",
       " 0,\n",
       " 0,\n",
       " 0,\n",
       " 0,\n",
       " 0,\n",
       " 1,\n",
       " 1,\n",
       " 1,\n",
       " 1,\n",
       " 1,\n",
       " 1,\n",
       " 1,\n",
       " 1,\n",
       " 0,\n",
       " 0,\n",
       " 0,\n",
       " 1,\n",
       " 0,\n",
       " 0,\n",
       " 0,\n",
       " 0,\n",
       " 1,\n",
       " 1,\n",
       " 1,\n",
       " 1,\n",
       " 1,\n",
       " 1,\n",
       " 1,\n",
       " 0,\n",
       " 0,\n",
       " 0,\n",
       " 0,\n",
       " 0,\n",
       " 0,\n",
       " 0,\n",
       " 0,\n",
       " 1,\n",
       " 1,\n",
       " 1,\n",
       " 1,\n",
       " 1,\n",
       " 1,\n",
       " 1,\n",
       " 1,\n",
       " 0,\n",
       " 0,\n",
       " 0,\n",
       " 0,\n",
       " 1,\n",
       " 1,\n",
       " 0,\n",
       " 0,\n",
       " 0,\n",
       " 0,\n",
       " 1,\n",
       " 1,\n",
       " 1,\n",
       " 1,\n",
       " 1,\n",
       " 1,\n",
       " 0,\n",
       " 0,\n",
       " 0,\n",
       " 0,\n",
       " 1,\n",
       " 1,\n",
       " 0,\n",
       " 0,\n",
       " 0,\n",
       " 0,\n",
       " 1,\n",
       " 1,\n",
       " 1,\n",
       " 1,\n",
       " 1,\n",
       " 0,\n",
       " 0,\n",
       " 0,\n",
       " 0,\n",
       " 0,\n",
       " 0,\n",
       " 0,\n",
       " 0,\n",
       " 0,\n",
       " 0,\n",
       " 0,\n",
       " 1,\n",
       " 1,\n",
       " 1,\n",
       " 1,\n",
       " 1,\n",
       " 0,\n",
       " 0,\n",
       " 0,\n",
       " 0,\n",
       " 0,\n",
       " 0,\n",
       " 0,\n",
       " 0,\n",
       " 0,\n",
       " 0,\n",
       " 0,\n",
       " 1,\n",
       " 1,\n",
       " 1,\n",
       " 1,\n",
       " 1,\n",
       " 0,\n",
       " 0,\n",
       " 0,\n",
       " 0,\n",
       " 0,\n",
       " 0,\n",
       " 0,\n",
       " 0,\n",
       " 0,\n",
       " 0,\n",
       " 0,\n",
       " 0,\n",
       " 1,\n",
       " 1,\n",
       " 1,\n",
       " 1,\n",
       " 0,\n",
       " 0,\n",
       " 0,\n",
       " 0,\n",
       " 1,\n",
       " 1,\n",
       " 1,\n",
       " 1,\n",
       " 0,\n",
       " 0,\n",
       " 0,\n",
       " 0,\n",
       " 1,\n",
       " 1,\n",
       " 1,\n",
       " 0,\n",
       " 0,\n",
       " 0,\n",
       " 0,\n",
       " 0,\n",
       " 1,\n",
       " 1,\n",
       " 1,\n",
       " 1,\n",
       " 0,\n",
       " 0,\n",
       " 0,\n",
       " 0,\n",
       " 1,\n",
       " 1,\n",
       " 1,\n",
       " 0,\n",
       " 0,\n",
       " 0,\n",
       " 0,\n",
       " 1,\n",
       " 1,\n",
       " 1,\n",
       " 1,\n",
       " 1,\n",
       " 0,\n",
       " 0,\n",
       " 0,\n",
       " 0,\n",
       " 1,\n",
       " 1]"
      ]
     },
     "execution_count": 98,
     "metadata": {},
     "output_type": "execute_result"
    }
   ],
   "source": [
    "Y[10]"
   ]
  },
  {
   "cell_type": "code",
   "execution_count": 95,
   "id": "ce264379",
   "metadata": {},
   "outputs": [],
   "source": [
    "temp = Y[10]\n",
    "for an in range(256):\n",
    "    if(temp[an]==1):\n",
    "        temp[an]=255\n",
    "    else:\n",
    "        temp[an]=0  \n",
    "temp3 = np.reshape(temp,(16,16)) \n",
    "imm = Image.fromarray(temp3)\n",
    "if imm != 'RGB':\n",
    "    imm = imm.convert('RGB')\n",
    "\n",
    "imm.show()"
   ]
  },
  {
   "cell_type": "code",
   "execution_count": 99,
   "id": "eaa81e81",
   "metadata": {},
   "outputs": [
    {
     "data": {
      "image/png": "[encoded data removed]",
      "text/plain": [
       "<Figure size 432x288 with 1 Axes>"
      ]
     },
     "metadata": {
      "needs_background": "light"
     },
     "output_type": "display_data"
    }
   ],
   "source": [
    "#Step-4b\n",
    "#Computing metrics Fh, Ffa\n",
    "\n",
    "\n",
    "\n",
    "def findFh(expected, actual):\n",
    "    fhvalues = []\n",
    "    for i in range(len(expected)):\n",
    "        fh=0\n",
    "        ffa=0\n",
    "        for j in range(256):\n",
    "            if(expected[i][j]==1 and actual[i][j]==1):\n",
    "                fh+=1\n",
    "        #zero is white ND one is black\n",
    "        \n",
    "        \n",
    "        ffhd = cv2.countNonZero(expected[i]) \n",
    "        ffad = 256-ffhd \n",
    "        \n",
    "        fhvalues.append(fh/ffhd)\n",
    "    return fhvalues\n",
    "\n",
    "\n",
    "def findFfa(expected, actual):\n",
    "    ffavalues = []\n",
    "    for i in range(len(expected)):\n",
    "        ffa=0\n",
    "        for j in range(256):\n",
    "            if (actual[i][j] == 0) and (expected[i][j] != 0):\n",
    "                ffa += 1\n",
    "        ffad = 256-cv2.countNonZero(expected[i])\n",
    "        ffavalues.append(ffa/ffad)\n",
    "    return ffavalues\n",
    "\n",
    "def drawplot(xvalues,yvalues,title):\n",
    "    plt.scatter(xvalues, yvalues)\n",
    "    plt.title(title)\n",
    "    plt.xlabel(\"Ffa\")\n",
    "    plt.ylabel(\"Fh\")\n",
    "    plt.show()\n",
    "    \n",
    "\n",
    "\n",
    "Fhvalues = findFh(X, Y)\n",
    "Ffavalues = findFfa(X, Y)\n",
    "\n",
    "\n",
    "\n",
    "#Step-4c\n",
    "\n",
    "drawplot(Ffavalues,Fhvalues,\"Ffa Vs Fh\")\n",
    "\n",
    "\n",
    "\n"
   ]
  },
  {
   "cell_type": "code",
   "execution_count": 100,
   "id": "292fcbf2",
   "metadata": {},
   "outputs": [
    {
     "data": {
      "image/png": "[encoded data removed]",
      "text/plain": [
       "<Figure size 432x288 with 1 Axes>"
      ]
     },
     "metadata": {
      "needs_background": "light"
     },
     "output_type": "display_data"
    },
    {
     "data": {
      "image/png": "[encoded data removed]",
      "text/plain": [
       "<Figure size 432x288 with 1 Axes>"
      ]
     },
     "metadata": {
      "needs_background": "light"
     },
     "output_type": "display_data"
    },
    {
     "data": {
      "image/png": "[encoded data removed]",
      "text/plain": [
       "<Figure size 432x288 with 1 Axes>"
      ]
     },
     "metadata": {
      "needs_background": "light"
     },
     "output_type": "display_data"
    },
    {
     "data": {
      "image/png": "[encoded data removed]",
      "text/plain": [
       "<Figure size 432x288 with 1 Axes>"
      ]
     },
     "metadata": {
      "needs_background": "light"
     },
     "output_type": "display_data"
    },
    {
     "data": {
      "image/png": "[encoded data removed]",
      "text/plain": [
       "<Figure size 432x288 with 1 Axes>"
      ]
     },
     "metadata": {
      "needs_background": "light"
     },
     "output_type": "display_data"
    },
    {
     "data": {
      "image/png": "[encoded data removed]",
      "text/plain": [
       "<Figure size 432x288 with 1 Axes>"
      ]
     },
     "metadata": {
      "needs_background": "light"
     },
     "output_type": "display_data"
    },
    {
     "data": {
      "image/png": "[encoded data removed]",
      "text/plain": [
       "<Figure size 432x288 with 1 Axes>"
      ]
     },
     "metadata": {
      "needs_background": "light"
     },
     "output_type": "display_data"
    },
    {
     "data": {
      "image/png": "[encoded data removed]",
      "text/plain": [
       "<Figure size 432x288 with 1 Axes>"
      ]
     },
     "metadata": {
      "needs_background": "light"
     },
     "output_type": "display_data"
    },
    {
     "data": {
      "image/png": "[encoded data removed]",
      "text/plain": [
       "<Figure size 432x288 with 1 Axes>"
      ]
     },
     "metadata": {
      "needs_background": "light"
     },
     "output_type": "display_data"
    }
   ],
   "source": [
    " #creating noisy images\n",
    "def Perturb(actualimages, mean, std_dev):\n",
    "    NoisyImages = []\n",
    "    \n",
    "    for i in actualimages:\n",
    "        Image = i\n",
    "        \n",
    "        mean, std_dev = mean, std_dev\n",
    "\n",
    "        sampleimg = numpy.random.normal(mean, std_dev, 25)\n",
    "\n",
    "        indexes = random.sample(range(0, 255), 25)\n",
    "        \n",
    "        sampleIndex = 0\n",
    "        \n",
    "        for j in indexes:\n",
    "            Image[j] += sampleimg[sampleIndex]\n",
    "            sampleIndex += 1\n",
    "        NoisyImages.append(Image)\n",
    "        \n",
    "    return thresholdcheck(NoisyImages)\n",
    "\n",
    "\n",
    "stdDevs = [0.001, 0.002, 0.003, 0.005, 0.01, 0.02, 0.03, 0.05, 0.1]\n",
    "\n",
    "FhArrays = []\n",
    "FfaArrays = []\n",
    "\n",
    "for i in stdDevs:\n",
    "    Noisyimgs = numpy.array(Perturb(X, 0, i))\n",
    "    \n",
    "    \n",
    "    Fhvalues = findFh(Noisyimgs, Y)\n",
    "    Ffavalues = findFfa(Noisyimgs, Y)\n",
    "\n",
    "    drawplot(Ffavalues,Fhvalues,\"Ffa Vs Fh at Std Dev(noisy) = \" + str(i))\n",
    "\n",
    "    \n",
    "    \n",
    "    FhArrays.append(Fhvalues)\n",
    "    FfaArrays.append(Ffavalues)\n",
    "\n",
    "\n",
    "\n"
   ]
  },
  {
   "cell_type": "markdown",
   "id": "4504604d",
   "metadata": {},
   "source": [
    "# Testing with Dataset - 2 :"
   ]
  },
  {
   "cell_type": "code",
   "execution_count": 101,
   "id": "0ae9c0a0",
   "metadata": {},
   "outputs": [
    {
     "name": "stdout",
     "output_type": "stream",
     "text": [
      "PNG\n",
      "(16, 16)\n",
      "RGBA\n",
      "PNG\n",
      "(16, 16)\n",
      "RGBA\n",
      "PNG\n",
      "(16, 16)\n",
      "RGBA\n",
      "PNG\n",
      "(16, 16)\n",
      "RGBA\n",
      "PNG\n",
      "(16, 16)\n",
      "RGBA\n",
      "PNG\n",
      "(16, 16)\n",
      "RGBA\n",
      "PNG\n",
      "(16, 16)\n",
      "RGBA\n",
      "PNG\n",
      "(16, 16)\n",
      "RGBA\n",
      "PNG\n",
      "(16, 16)\n",
      "RGBA\n",
      "PNG\n",
      "(16, 16)\n",
      "RGBA\n",
      "PNG\n",
      "(16, 16)\n",
      "RGBA\n",
      "PNG\n",
      "(16, 16)\n",
      "RGBA\n",
      "PNG\n",
      "(16, 16)\n",
      "RGBA\n",
      "PNG\n",
      "(16, 16)\n",
      "RGBA\n",
      "PNG\n",
      "(16, 16)\n",
      "RGBA\n",
      "PNG\n",
      "(16, 16)\n",
      "RGBA\n",
      "PNG\n",
      "(16, 16)\n",
      "RGBA\n",
      "PNG\n",
      "(16, 16)\n",
      "RGBA\n",
      "PNG\n",
      "(16, 16)\n",
      "RGBA\n",
      "PNG\n",
      "(16, 16)\n",
      "RGBA\n",
      "PNG\n",
      "(16, 16)\n",
      "RGBA\n",
      "PNG\n",
      "(16, 16)\n",
      "RGBA\n",
      "PNG\n",
      "(16, 16)\n",
      "RGBA\n",
      "PNG\n",
      "(16, 16)\n",
      "RGBA\n",
      "PNG\n",
      "(16, 16)\n",
      "RGBA\n",
      "PNG\n",
      "(16, 16)\n",
      "RGBA\n"
     ]
    }
   ],
   "source": [
    "for i in range(ord('A'), ord('Z')+1):\n",
    "    image = Image.open(chr(i)+str(2)+'.png')\n",
    "    print(image.format)\n",
    "    print(image.size)\n",
    "    print(image.mode)\n",
    "    img = image.convert('L')\n",
    "    bw = img.point(lambda x: 0 if x<180 else 1,'1')\n",
    "    bw.save('Test/out'+chr(i)+str(2)+'.png')"
   ]
  },
  {
   "cell_type": "code",
   "execution_count": 102,
   "id": "7207bcde",
   "metadata": {},
   "outputs": [
    {
     "name": "stdout",
     "output_type": "stream",
     "text": [
      "PNG\n",
      "(16, 16)\n",
      "RGBA\n",
      "PNG\n",
      "(16, 16)\n",
      "RGBA\n",
      "PNG\n",
      "(16, 16)\n",
      "RGBA\n",
      "PNG\n",
      "(16, 16)\n",
      "RGBA\n",
      "PNG\n",
      "(16, 16)\n",
      "RGBA\n",
      "PNG\n",
      "(16, 16)\n",
      "RGBA\n",
      "PNG\n",
      "(16, 16)\n",
      "RGBA\n",
      "PNG\n",
      "(16, 16)\n",
      "RGBA\n",
      "PNG\n",
      "(16, 16)\n",
      "RGBA\n",
      "PNG\n",
      "(16, 16)\n",
      "RGBA\n"
     ]
    },
    {
     "data": {
      "image/png": "[encoded data removed]",
      "text/plain": [
       "<Figure size 432x288 with 1 Axes>"
      ]
     },
     "metadata": {
      "needs_background": "light"
     },
     "output_type": "display_data"
    }
   ],
   "source": [
    "for i in range(10):\n",
    "    image = Image.open(str(i)+str(2)+'.png')\n",
    "    print(image.format)\n",
    "    print(image.size)\n",
    "    print(image.mode)\n",
    "    img = image.convert('L')\n",
    "    bw = img.point(lambda x: 0 if x<195 else 1,'1')\n",
    "    bw.save('Test/out'+str(i)+'2'+'.png')\n",
    "    plt.subplot\n",
    "    plt.title(\"original\")\n",
    "    plt.imshow(bw)\n"
   ]
  },
  {
   "cell_type": "code",
   "execution_count": 103,
   "id": "b87c1401",
   "metadata": {},
   "outputs": [],
   "source": [
    "d =list()\n",
    "# to append all the values.\n",
    "for i in range(10):\n",
    "    d.append((cv2.imread('Test/out'+str(i)+'2'+'.png', cv2.IMREAD_UNCHANGED)).ravel())"
   ]
  },
  {
   "cell_type": "code",
   "execution_count": 104,
   "id": "23a879d3",
   "metadata": {},
   "outputs": [],
   "source": [
    "for i in range(ord('A'), ord('Z')+1):\n",
    "    d.append((cv2.imread('Test/out'+chr(i)+str(2)+'.png',cv2.IMREAD_UNCHANGED)).ravel())"
   ]
  },
  {
   "cell_type": "code",
   "execution_count": 105,
   "id": "bea10323",
   "metadata": {},
   "outputs": [
    {
     "data": {
      "text/plain": [
       "256"
      ]
     },
     "execution_count": 105,
     "metadata": {},
     "output_type": "execute_result"
    }
   ],
   "source": [
    "len(d[30])"
   ]
  },
  {
   "cell_type": "code",
   "execution_count": 106,
   "id": "69755506",
   "metadata": {},
   "outputs": [
    {
     "data": {
      "text/plain": [
       "array([255, 255, 255, 255, 255, 255, 255, 255, 255, 255, 255, 255, 255,\n",
       "       255, 255, 255, 255,   0,   0,   0,   0,   0,   0,   0, 255, 255,\n",
       "         0,   0,   0,   0, 255, 255, 255, 255,   0,   0,   0,   0,   0,\n",
       "       255, 255, 255, 255,   0,   0, 255, 255, 255, 255, 255,   0,   0,\n",
       "         0,   0,   0, 255, 255, 255, 255,   0,   0, 255, 255, 255, 255,\n",
       "       255,   0,   0,   0,   0,   0, 255, 255, 255, 255,   0,   0, 255,\n",
       "       255, 255, 255, 255,   0,   0,   0,   0,   0, 255, 255, 255, 255,\n",
       "         0,   0, 255, 255, 255, 255, 255,   0,   0,   0,   0,   0, 255,\n",
       "       255, 255, 255,   0,   0, 255, 255, 255, 255, 255,   0,   0,   0,\n",
       "         0,   0, 255, 255, 255, 255,   0,   0, 255, 255, 255, 255, 255,\n",
       "         0,   0,   0,   0,   0, 255, 255, 255, 255,   0,   0, 255, 255,\n",
       "       255, 255, 255,   0,   0,   0,   0,   0, 255, 255, 255, 255,   0,\n",
       "         0, 255, 255, 255, 255, 255,   0,   0,   0,   0,   0, 255, 255,\n",
       "       255, 255,   0,   0, 255, 255, 255, 255, 255,   0,   0,   0,   0,\n",
       "         0, 255, 255, 255, 255,   0, 255, 255, 255, 255, 255, 255,   0,\n",
       "         0,   0,   0,   0, 255, 255, 255, 255,   0, 255, 255, 255, 255,\n",
       "       255, 255,   0,   0,   0,   0,   0, 255, 255, 255,   0,   0, 255,\n",
       "       255, 255, 255, 255, 255, 255, 255,   0,   0,   0,   0, 255,   0,\n",
       "         0, 255, 255, 255, 255, 255, 255, 255, 255, 255, 255, 255, 255,\n",
       "       255, 255, 255, 255, 255, 255, 255, 255, 255], dtype=uint8)"
      ]
     },
     "execution_count": 106,
     "metadata": {},
     "output_type": "execute_result"
    }
   ],
   "source": [
    "d[30]"
   ]
  },
  {
   "cell_type": "code",
   "execution_count": 107,
   "id": "f404be80",
   "metadata": {},
   "outputs": [
    {
     "name": "stderr",
     "output_type": "stream",
     "text": [
      "C:\\Users\\vvskm\\AppData\\Local\\Temp/ipykernel_17552/2096316465.py:1: FutureWarning: arrays to stack must be passed as a \"sequence\" type such as list or tuple. Support for non-sequence iterables such as generators is deprecated as of NumPy 1.16 and will raise an error in the future.\n",
      "  test=np.row_stack(d.pop(0) for i in range(36))\n"
     ]
    }
   ],
   "source": [
    "test=np.row_stack(d.pop(0) for i in range(36))"
   ]
  },
  {
   "cell_type": "code",
   "execution_count": 108,
   "id": "9517f687",
   "metadata": {},
   "outputs": [
    {
     "data": {
      "text/plain": [
       "array([255, 255, 255, 255, 255, 255, 255, 255, 255, 255, 255, 255, 255,\n",
       "       255, 255, 255, 255, 255, 255, 255, 255,   0,   0,   0,   0,   0,\n",
       "         0, 255, 255, 255, 255, 255, 255, 255, 255, 255,   0,   0,   0,\n",
       "       255, 255,   0,   0,   0, 255, 255, 255, 255, 255, 255, 255, 255,\n",
       "         0,   0,   0, 255, 255,   0,   0,   0,   0, 255, 255, 255, 255,\n",
       "       255, 255,   0,   0,   0,   0, 255, 255,   0,   0,   0,   0, 255,\n",
       "       255, 255, 255, 255, 255,   0,   0,   0,   0, 255, 255,   0,   0,\n",
       "         0,   0, 255, 255, 255, 255, 255,   0,   0,   0,   0,   0, 255,\n",
       "       255,   0,   0,   0,   0,   0, 255, 255, 255, 255,   0,   0,   0,\n",
       "         0,   0, 255, 255,   0,   0,   0,   0,   0, 255, 255, 255, 255,\n",
       "         0,   0,   0,   0,   0, 255, 255,   0,   0,   0,   0,   0, 255,\n",
       "       255, 255, 255,   0,   0,   0,   0,   0, 255, 255,   0,   0,   0,\n",
       "         0,   0, 255, 255, 255, 255, 255,   0,   0,   0,   0, 255, 255,\n",
       "         0,   0,   0,   0,   0, 255, 255, 255, 255, 255,   0,   0,   0,\n",
       "         0, 255, 255,   0,   0,   0,   0, 255, 255, 255, 255, 255, 255,\n",
       "         0,   0,   0,   0, 255, 255,   0,   0,   0,   0, 255, 255, 255,\n",
       "       255, 255, 255, 255,   0,   0,   0, 255, 255,   0,   0,   0, 255,\n",
       "       255, 255, 255, 255, 255, 255, 255, 255,   0,   0,   0, 255,   0,\n",
       "         0, 255, 255, 255, 255, 255, 255, 255, 255, 255, 255, 255,   0,\n",
       "         0, 255,   0, 255, 255, 255, 255, 255, 255], dtype=uint8)"
      ]
     },
     "execution_count": 108,
     "metadata": {},
     "output_type": "execute_result"
    }
   ],
   "source": [
    "test[0]"
   ]
  },
  {
   "cell_type": "code",
   "execution_count": 109,
   "id": "35e71c6e",
   "metadata": {},
   "outputs": [],
   "source": [
    "for i in range(36):\n",
    "    for j in range(256):\n",
    "        if test[i][j]==255:\n",
    "            test[i][j]=1\n",
    "y=X"
   ]
  },
  {
   "cell_type": "code",
   "execution_count": 110,
   "id": "38704b74",
   "metadata": {},
   "outputs": [
    {
     "data": {
      "text/plain": [
       "array([1, 1, 1, 1, 1, 1, 1, 1, 1, 1, 1, 1, 1, 1, 1, 1, 1, 1, 1, 1, 1, 0,\n",
       "       0, 0, 0, 0, 0, 1, 1, 1, 1, 1, 1, 1, 1, 1, 0, 0, 0, 1, 1, 0, 0, 0,\n",
       "       1, 1, 1, 1, 1, 1, 1, 1, 0, 0, 0, 1, 1, 0, 0, 0, 0, 1, 1, 1, 1, 1,\n",
       "       1, 0, 0, 0, 0, 1, 1, 0, 0, 0, 0, 1, 1, 1, 1, 1, 1, 0, 0, 0, 0, 1,\n",
       "       1, 0, 0, 0, 0, 1, 1, 1, 1, 1, 0, 0, 0, 0, 0, 1, 1, 0, 0, 0, 0, 0,\n",
       "       1, 1, 1, 1, 0, 0, 0, 0, 0, 1, 1, 0, 0, 0, 0, 0, 1, 1, 1, 1, 0, 0,\n",
       "       0, 0, 0, 1, 1, 0, 0, 0, 0, 0, 1, 1, 1, 1, 0, 0, 0, 0, 0, 1, 1, 0,\n",
       "       0, 0, 0, 0, 1, 1, 1, 1, 1, 0, 0, 0, 0, 1, 1, 0, 0, 0, 0, 0, 1, 1,\n",
       "       1, 1, 1, 0, 0, 0, 0, 1, 1, 0, 0, 0, 0, 1, 1, 1, 1, 1, 1, 0, 0, 0,\n",
       "       0, 1, 1, 0, 0, 0, 0, 1, 1, 1, 1, 1, 1, 1, 0, 0, 0, 1, 1, 0, 0, 0,\n",
       "       1, 1, 1, 1, 1, 1, 1, 1, 1, 0, 0, 0, 1, 0, 0, 1, 1, 1, 1, 1, 1, 1,\n",
       "       1, 1, 1, 1, 0, 0, 1, 0, 1, 1, 1, 1, 1, 1], dtype=uint8)"
      ]
     },
     "execution_count": 110,
     "metadata": {},
     "output_type": "execute_result"
    }
   ],
   "source": [
    "test[0]"
   ]
  },
  {
   "cell_type": "code",
   "execution_count": 111,
   "id": "e073b761",
   "metadata": {},
   "outputs": [
    {
     "data": {
      "text/plain": [
       "array([[1.        , 1.        , 1.        , ..., 0.99998647, 1.        ,\n",
       "        1.        ],\n",
       "       [1.        , 1.        , 1.        , ..., 0.99960554, 0.9824822 ,\n",
       "        1.        ],\n",
       "       [1.        , 1.        , 1.        , ..., 0.99999344, 0.99999183,\n",
       "        1.        ],\n",
       "       ...,\n",
       "       [1.        , 1.        , 0.99997246, ..., 0.99991727, 0.9997116 ,\n",
       "        1.        ],\n",
       "       [1.        , 1.        , 1.        , ..., 0.9999997 , 0.9830438 ,\n",
       "        1.        ],\n",
       "       [1.        , 1.        , 0.999998  , ..., 0.97722864, 0.94646287,\n",
       "        1.        ]], dtype=float32)"
      ]
     },
     "execution_count": 111,
     "metadata": {},
     "output_type": "execute_result"
    }
   ],
   "source": [
    "test_out = model.predict(test) #prediction of model on trained data X\n",
    "test_out"
   ]
  },
  {
   "cell_type": "code",
   "execution_count": 141,
   "id": "473a0f2a",
   "metadata": {},
   "outputs": [],
   "source": [
    "\n",
    "Y=thresholdcheck(test_out)\n"
   ]
  },
  {
   "cell_type": "code",
   "execution_count": 142,
   "id": "38066947",
   "metadata": {},
   "outputs": [
    {
     "data": {
      "text/plain": [
       "[1,\n",
       " 1,\n",
       " 1,\n",
       " 1,\n",
       " 1,\n",
       " 1,\n",
       " 1,\n",
       " 1,\n",
       " 1,\n",
       " 1,\n",
       " 1,\n",
       " 1,\n",
       " 1,\n",
       " 1,\n",
       " 1,\n",
       " 1,\n",
       " 1,\n",
       " 1,\n",
       " 1,\n",
       " 1,\n",
       " 1,\n",
       " 0,\n",
       " 0,\n",
       " 0,\n",
       " 0,\n",
       " 0,\n",
       " 0,\n",
       " 1,\n",
       " 1,\n",
       " 1,\n",
       " 1,\n",
       " 1,\n",
       " 1,\n",
       " 1,\n",
       " 1,\n",
       " 0,\n",
       " 0,\n",
       " 0,\n",
       " 0,\n",
       " 0,\n",
       " 0,\n",
       " 0,\n",
       " 0,\n",
       " 0,\n",
       " 1,\n",
       " 1,\n",
       " 1,\n",
       " 1,\n",
       " 1,\n",
       " 1,\n",
       " 1,\n",
       " 0,\n",
       " 0,\n",
       " 0,\n",
       " 0,\n",
       " 0,\n",
       " 0,\n",
       " 0,\n",
       " 0,\n",
       " 0,\n",
       " 1,\n",
       " 1,\n",
       " 1,\n",
       " 1,\n",
       " 1,\n",
       " 1,\n",
       " 1,\n",
       " 0,\n",
       " 0,\n",
       " 0,\n",
       " 0,\n",
       " 1,\n",
       " 1,\n",
       " 0,\n",
       " 0,\n",
       " 0,\n",
       " 0,\n",
       " 1,\n",
       " 1,\n",
       " 1,\n",
       " 1,\n",
       " 1,\n",
       " 1,\n",
       " 0,\n",
       " 0,\n",
       " 0,\n",
       " 0,\n",
       " 1,\n",
       " 1,\n",
       " 0,\n",
       " 0,\n",
       " 0,\n",
       " 0,\n",
       " 1,\n",
       " 1,\n",
       " 1,\n",
       " 1,\n",
       " 1,\n",
       " 0,\n",
       " 0,\n",
       " 0,\n",
       " 0,\n",
       " 0,\n",
       " 1,\n",
       " 1,\n",
       " 0,\n",
       " 0,\n",
       " 0,\n",
       " 0,\n",
       " 1,\n",
       " 1,\n",
       " 1,\n",
       " 1,\n",
       " 1,\n",
       " 0,\n",
       " 0,\n",
       " 0,\n",
       " 0,\n",
       " 1,\n",
       " 1,\n",
       " 1,\n",
       " 0,\n",
       " 0,\n",
       " 0,\n",
       " 0,\n",
       " 1,\n",
       " 1,\n",
       " 1,\n",
       " 1,\n",
       " 1,\n",
       " 0,\n",
       " 0,\n",
       " 0,\n",
       " 0,\n",
       " 1,\n",
       " 1,\n",
       " 1,\n",
       " 0,\n",
       " 0,\n",
       " 0,\n",
       " 0,\n",
       " 1,\n",
       " 1,\n",
       " 1,\n",
       " 1,\n",
       " 1,\n",
       " 0,\n",
       " 0,\n",
       " 0,\n",
       " 0,\n",
       " 0,\n",
       " 1,\n",
       " 1,\n",
       " 0,\n",
       " 0,\n",
       " 0,\n",
       " 0,\n",
       " 1,\n",
       " 1,\n",
       " 1,\n",
       " 1,\n",
       " 1,\n",
       " 0,\n",
       " 0,\n",
       " 0,\n",
       " 0,\n",
       " 0,\n",
       " 1,\n",
       " 1,\n",
       " 0,\n",
       " 0,\n",
       " 0,\n",
       " 0,\n",
       " 0,\n",
       " 1,\n",
       " 1,\n",
       " 1,\n",
       " 1,\n",
       " 1,\n",
       " 0,\n",
       " 0,\n",
       " 0,\n",
       " 0,\n",
       " 1,\n",
       " 0,\n",
       " 0,\n",
       " 0,\n",
       " 0,\n",
       " 0,\n",
       " 1,\n",
       " 1,\n",
       " 1,\n",
       " 1,\n",
       " 1,\n",
       " 1,\n",
       " 0,\n",
       " 0,\n",
       " 0,\n",
       " 0,\n",
       " 0,\n",
       " 0,\n",
       " 0,\n",
       " 0,\n",
       " 0,\n",
       " 0,\n",
       " 1,\n",
       " 1,\n",
       " 1,\n",
       " 1,\n",
       " 1,\n",
       " 1,\n",
       " 1,\n",
       " 0,\n",
       " 0,\n",
       " 0,\n",
       " 0,\n",
       " 0,\n",
       " 0,\n",
       " 0,\n",
       " 0,\n",
       " 1,\n",
       " 1,\n",
       " 1,\n",
       " 1,\n",
       " 1,\n",
       " 1,\n",
       " 1,\n",
       " 1,\n",
       " 0,\n",
       " 0,\n",
       " 1,\n",
       " 1,\n",
       " 0,\n",
       " 0,\n",
       " 0,\n",
       " 1,\n",
       " 1,\n",
       " 1,\n",
       " 1,\n",
       " 1,\n",
       " 1,\n",
       " 1,\n",
       " 1,\n",
       " 1,\n",
       " 1,\n",
       " 1,\n",
       " 1,\n",
       " 0,\n",
       " 1,\n",
       " 1,\n",
       " 1,\n",
       " 1,\n",
       " 1,\n",
       " 1,\n",
       " 1,\n",
       " 1]"
      ]
     },
     "execution_count": 142,
     "metadata": {},
     "output_type": "execute_result"
    }
   ],
   "source": [
    "Y[0]"
   ]
  },
  {
   "cell_type": "code",
   "execution_count": 140,
   "id": "490b139b",
   "metadata": {},
   "outputs": [],
   "source": [
    "temp = Y[0]\n",
    "for an in range(256):\n",
    "    if(temp[an]==1):\n",
    "        temp[an]=255\n",
    "    else:\n",
    "        temp[an]=0  \n",
    "temp3 = np.reshape(temp,(16,16)) \n",
    "imm = Image.fromarray(temp3)\n",
    "if imm != 'RGB':\n",
    "    imm = imm.convert('RGB')\n",
    "\n",
    "imm.show()"
   ]
  },
  {
   "cell_type": "code",
   "execution_count": 125,
   "id": "b356d755",
   "metadata": {},
   "outputs": [
    {
     "data": {
      "image/png": "[encoded data removed]",
      "text/plain": [
       "<Figure size 432x288 with 1 Axes>"
      ]
     },
     "metadata": {
      "needs_background": "light"
     },
     "output_type": "display_data"
    }
   ],
   "source": [
    "Fhvalues = findFh(test, Y)\n",
    "Ffavalues = findFfa(test, Y)\n",
    "\n",
    "#Step-4c\n",
    "drawplot(Ffavalues,Fhvalues,\"Ffa Vs Fh\")"
   ]
  },
  {
   "cell_type": "code",
   "execution_count": 133,
   "id": "8524c3fc",
   "metadata": {},
   "outputs": [
    {
     "data": {
      "image/png": "[encoded data removed]",
      "text/plain": [
       "<Figure size 432x288 with 1 Axes>"
      ]
     },
     "metadata": {
      "needs_background": "light"
     },
     "output_type": "display_data"
    },
    {
     "data": {
      "image/png": "[encoded data removed]",
      "text/plain": [
       "<Figure size 432x288 with 1 Axes>"
      ]
     },
     "metadata": {
      "needs_background": "light"
     },
     "output_type": "display_data"
    },
    {
     "data": {
      "image/png": "[encoded data removed]",
      "text/plain": [
       "<Figure size 432x288 with 1 Axes>"
      ]
     },
     "metadata": {
      "needs_background": "light"
     },
     "output_type": "display_data"
    },
    {
     "data": {
      "image/png": "[encoded data removed]",
      "text/plain": [
       "<Figure size 432x288 with 1 Axes>"
      ]
     },
     "metadata": {
      "needs_background": "light"
     },
     "output_type": "display_data"
    },
    {
     "data": {
      "image/png": "[encoded data removed]",
      "text/plain": [
       "<Figure size 432x288 with 1 Axes>"
      ]
     },
     "metadata": {
      "needs_background": "light"
     },
     "output_type": "display_data"
    },
    {
     "data": {
      "image/png": "[encoded data removed]",
      "text/plain": [
       "<Figure size 432x288 with 1 Axes>"
      ]
     },
     "metadata": {
      "needs_background": "light"
     },
     "output_type": "display_data"
    },
    {
     "data": {
      "image/png": "[encoded data removed]",
      "text/plain": [
       "<Figure size 432x288 with 1 Axes>"
      ]
     },
     "metadata": {
      "needs_background": "light"
     },
     "output_type": "display_data"
    },
    {
     "data": {
      "image/png": "[encoded data removed]",
      "text/plain": [
       "<Figure size 432x288 with 1 Axes>"
      ]
     },
     "metadata": {
      "needs_background": "light"
     },
     "output_type": "display_data"
    },
    {
     "data": {
      "image/png": "[encoded data removed]",
      "text/plain": [
       "<Figure size 432x288 with 1 Axes>"
      ]
     },
     "metadata": {
      "needs_background": "light"
     },
     "output_type": "display_data"
    }
   ],
   "source": [
    " #creating noisy images\n",
    "def Perturb(actualimages, mean, std_dev):\n",
    "    NoisyImages = []\n",
    "    \n",
    "    for i in actualimages:\n",
    "        Image = i\n",
    "        \n",
    "        mean, std_dev = mean, std_dev\n",
    "\n",
    "        sampleimg = numpy.random.normal(mean, std_dev, 25)\n",
    "\n",
    "        indexes = random.sample(range(0, 255), 25)\n",
    "        \n",
    "        sampleIndex = 0\n",
    "        \n",
    "        for j in indexes:\n",
    "            Image[j] += sampleimg[sampleIndex]\n",
    "            sampleIndex += 1\n",
    "        NoisyImages.append(Image)\n",
    "        \n",
    "    return thresholdcheck(NoisyImages)\n",
    "\n",
    "\n",
    "stdDevs = [0.001, 0.002, 0.003, 0.005, 0.01, 0.02, 0.03, 0.05, 0.1]\n",
    "\n",
    "FhArrays = []\n",
    "FfaArrays = []\n",
    "\n",
    "for i in stdDevs:\n",
    "    Noisyimgs = numpy.array(Perturb(test, 0, i))\n",
    "    \n",
    "    \n",
    "    Fhvalues = findFh(Noisyimgs, Y)\n",
    "    Ffavalues = findFfa(Noisyimgs, Y)\n",
    "\n",
    "    drawplot(Ffavalues,Fhvalues,\"Ffa Vs Fh at Std Dev(noisy) = \" + str(i))\n",
    "\n",
    "    \n",
    "    \n",
    "    FhArrays.append(Fhvalues)\n",
    "    FfaArrays.append(Ffavalues)\n",
    "\n",
    "\n",
    "\n"
   ]
  },
  {
   "cell_type": "code",
   "execution_count": null,
   "id": "2baa8f19",
   "metadata": {},
   "outputs": [],
   "source": []
  }
 ],
 "metadata": {
  "kernelspec": {
   "display_name": "Python 3 (ipykernel)",
   "language": "python",
   "name": "python3"
  },
  "language_info": {
   "codemirror_mode": {
    "name": "ipython",
    "version": 3
   },
   "file_extension": ".py",
   "mimetype": "text/x-python",
   "name": "python",
   "nbconvert_exporter": "python",
   "pygments_lexer": "ipython3",
   "version": "3.9.7"
  }
 },
 "nbformat": 4,
 "nbformat_minor": 5
}
