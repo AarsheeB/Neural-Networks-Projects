{
 "cells": [
  {
   "cell_type": "code",
   "execution_count": 96,
   "id": "61237136",
   "metadata": {},
   "outputs": [
    {
     "ename": "ImportError",
     "evalue": "cannot import name 'cross_validation' from 'sklearn' (C:\\Users\\vvskm\\anaconda3\\lib\\site-packages\\sklearn\\__init__.py)",
     "output_type": "error",
     "traceback": [
      "\u001b[1;31m---------------------------------------------------------------------------\u001b[0m",
      "\u001b[1;31mImportError\u001b[0m                               Traceback (most recent call last)",
      "\u001b[1;32m~\\AppData\\Local\\Temp/ipykernel_18760/1706432358.py\u001b[0m in \u001b[0;36m<module>\u001b[1;34m\u001b[0m\n\u001b[0;32m      9\u001b[0m \u001b[1;32mimport\u001b[0m \u001b[0mnumpy\u001b[0m\u001b[1;33m\u001b[0m\u001b[1;33m\u001b[0m\u001b[0m\n\u001b[0;32m     10\u001b[0m \u001b[1;32mimport\u001b[0m \u001b[0mrandom\u001b[0m\u001b[1;33m\u001b[0m\u001b[1;33m\u001b[0m\u001b[0m\n\u001b[1;32m---> 11\u001b[1;33m \u001b[1;32mfrom\u001b[0m \u001b[0msklearn\u001b[0m \u001b[1;32mimport\u001b[0m \u001b[0mcross_validation\u001b[0m\u001b[1;33m\u001b[0m\u001b[1;33m\u001b[0m\u001b[0m\n\u001b[0m",
      "\u001b[1;31mImportError\u001b[0m: cannot import name 'cross_validation' from 'sklearn' (C:\\Users\\vvskm\\anaconda3\\lib\\site-packages\\sklearn\\__init__.py)"
     ]
    }
   ],
   "source": [
    "import matplotlib.pyplot as py\n",
    "from PIL import Image\n",
    "import numpy as np\n",
    "import matplotlib.pyplot as plt\n",
    "from math import *\n",
    "import math\n",
    "from keras.models import Sequential\n",
    "from keras.layers import Dense\n",
    "import numpy\n",
    "import random\n",
    " \n"
   ]
  },
  {
   "cell_type": "code",
   "execution_count": null,
   "id": "472f6ce4",
   "metadata": {},
   "outputs": [],
   "source": []
  },
  {
   "cell_type": "code",
   "execution_count": 65,
   "id": "9a7f3d13",
   "metadata": {},
   "outputs": [
    {
     "name": "stdout",
     "output_type": "stream",
     "text": [
      "PNG\n",
      "(16, 16)\n",
      "RGB\n",
      "PNG\n",
      "(16, 16)\n",
      "RGB\n",
      "PNG\n",
      "(16, 16)\n",
      "RGB\n",
      "PNG\n",
      "(16, 16)\n",
      "RGB\n",
      "PNG\n",
      "(16, 16)\n",
      "RGB\n",
      "PNG\n",
      "(16, 16)\n",
      "RGB\n",
      "PNG\n",
      "(16, 16)\n",
      "RGB\n",
      "PNG\n",
      "(16, 16)\n",
      "RGB\n",
      "PNG\n",
      "(16, 16)\n",
      "RGBA\n",
      "PNG\n",
      "(16, 16)\n",
      "RGB\n",
      "PNG\n",
      "(16, 16)\n",
      "RGB\n",
      "PNG\n",
      "(16, 16)\n",
      "RGB\n",
      "PNG\n",
      "(16, 16)\n",
      "RGB\n",
      "PNG\n",
      "(16, 16)\n",
      "RGB\n",
      "PNG\n",
      "(16, 16)\n",
      "RGB\n",
      "PNG\n",
      "(16, 16)\n",
      "RGB\n",
      "PNG\n",
      "(16, 16)\n",
      "RGB\n",
      "PNG\n",
      "(16, 16)\n",
      "RGB\n",
      "PNG\n",
      "(16, 16)\n",
      "RGB\n",
      "PNG\n",
      "(16, 16)\n",
      "RGB\n",
      "PNG\n",
      "(16, 16)\n",
      "RGB\n",
      "PNG\n",
      "(16, 16)\n",
      "RGB\n",
      "PNG\n",
      "(16, 16)\n",
      "RGB\n",
      "PNG\n",
      "(16, 16)\n",
      "RGB\n",
      "PNG\n",
      "(16, 16)\n",
      "RGB\n",
      "PNG\n",
      "(16, 16)\n",
      "RGB\n"
     ]
    }
   ],
   "source": [
    "for i in range(ord('A'), ord('Z')+1):\n",
    "    image = Image.open('Dataset1/'+chr(i)+str(1)+'.png')\n",
    "    print(image.format)\n",
    "    print(image.size)\n",
    "    print(image.mode)\n",
    "    img = image.convert('L')\n",
    "    bw = img.point(lambda x: 0 if x<180 else 1,'1')\n",
    "    bw.save('New/out'+chr(i)+str(1)+'.png')"
   ]
  },
  {
   "cell_type": "code",
   "execution_count": 66,
   "id": "069ef50a",
   "metadata": {},
   "outputs": [
    {
     "name": "stdout",
     "output_type": "stream",
     "text": [
      "PNG\n",
      "(16, 16)\n",
      "RGB\n",
      "PNG\n",
      "(16, 16)\n",
      "RGB\n",
      "PNG\n",
      "(16, 16)\n",
      "RGB\n",
      "PNG\n",
      "(16, 16)\n",
      "RGBA\n",
      "PNG\n",
      "(16, 16)\n",
      "RGBA\n",
      "PNG\n",
      "(16, 16)\n",
      "RGB\n",
      "PNG\n",
      "(16, 16)\n",
      "RGB\n",
      "PNG\n",
      "(16, 16)\n",
      "RGB\n",
      "PNG\n",
      "(16, 16)\n",
      "RGB\n",
      "PNG\n",
      "(16, 16)\n",
      "RGB\n"
     ]
    },
    {
     "data": {
      "image/png": "[encoded data removed]",
      "text/plain": [
       "<Figure size 432x288 with 1 Axes>"
      ]
     },
     "metadata": {
      "needs_background": "light"
     },
     "output_type": "display_data"
    }
   ],
   "source": [
    "for i in range(10):\n",
    "    image = Image.open('Dataset1/'+str(i)+str(1)+'.png')\n",
    "    print(image.format)\n",
    "    print(image.size)\n",
    "    print(image.mode)\n",
    "    img = image.convert('L')\n",
    "    bw = img.point(lambda x: 0 if x<185 else 1,'1')\n",
    "    bw.save('New/out'+str(i)+'1'+'.png')\n",
    "    plt.subplot\n",
    "    plt.title(\"original\")\n",
    "    plt.imshow(bw)\n"
   ]
  },
  {
   "cell_type": "code",
   "execution_count": null,
   "id": "4a818ac0",
   "metadata": {},
   "outputs": [],
   "source": []
  },
  {
   "cell_type": "code",
   "execution_count": 67,
   "id": "0a5fdffb",
   "metadata": {},
   "outputs": [],
   "source": [
    "import cv2\n",
    "d =list()\n",
    "# to append all the values.\n",
    "for i in range(10):\n",
    "    d.append((cv2.imread('New/out'+str(i)+'1'+'.png', cv2.IMREAD_UNCHANGED)).ravel())\n"
   ]
  },
  {
   "cell_type": "code",
   "execution_count": 68,
   "id": "c453ce57",
   "metadata": {},
   "outputs": [],
   "source": [
    "for i in range(ord('A'), ord('Z')+1):\n",
    "    d.append((cv2.imread('New/out'+chr(i)+str(1)+'.png',cv2.IMREAD_UNCHANGED)).ravel())"
   ]
  },
  {
   "cell_type": "code",
   "execution_count": 69,
   "id": "ba3cad0a",
   "metadata": {},
   "outputs": [
    {
     "data": {
      "text/plain": [
       "256"
      ]
     },
     "execution_count": 69,
     "metadata": {},
     "output_type": "execute_result"
    }
   ],
   "source": [
    "len(d[30])"
   ]
  },
  {
   "cell_type": "code",
   "execution_count": 70,
   "id": "60172864",
   "metadata": {},
   "outputs": [
    {
     "data": {
      "text/plain": [
       "array([255, 255, 255, 255, 255, 255, 255, 255, 255, 255, 255, 255, 255,\n",
       "       255, 255, 255, 255,   0,   0,   0,   0,   0, 255, 255, 255, 255,\n",
       "         0,   0,   0,   0,   0, 255, 255,   0,   0,   0,   0,   0, 255,\n",
       "       255, 255, 255,   0,   0,   0,   0,   0, 255, 255,   0,   0,   0,\n",
       "         0,   0, 255, 255, 255, 255,   0,   0,   0,   0,   0, 255, 255,\n",
       "         0,   0,   0,   0,   0, 255, 255, 255, 255,   0,   0,   0,   0,\n",
       "         0, 255, 255,   0,   0,   0,   0,   0, 255, 255, 255, 255,   0,\n",
       "         0,   0,   0,   0, 255, 255,   0,   0,   0,   0,   0, 255, 255,\n",
       "       255, 255,   0,   0,   0,   0,   0, 255, 255,   0,   0,   0,   0,\n",
       "         0, 255, 255, 255, 255,   0,   0,   0,   0,   0, 255, 255,   0,\n",
       "         0,   0,   0,   0, 255, 255, 255, 255,   0,   0,   0,   0,   0,\n",
       "       255, 255,   0,   0,   0,   0,   0, 255, 255, 255, 255,   0,   0,\n",
       "         0,   0,   0, 255, 255,   0,   0,   0,   0,   0, 255, 255, 255,\n",
       "       255,   0,   0,   0,   0,   0, 255, 255,   0,   0,   0,   0,   0,\n",
       "         0, 255, 255,   0,   0,   0,   0,   0, 255, 255, 255, 255,   0,\n",
       "         0,   0,   0,   0,   0,   0,   0,   0,   0,   0,   0, 255, 255,\n",
       "       255, 255,   0,   0,   0,   0,   0,   0,   0,   0,   0,   0,   0,\n",
       "       255, 255, 255, 255, 255, 255,   0,   0,   0,   0,   0,   0,   0,\n",
       "         0,   0, 255, 255, 255, 255, 255, 255, 255, 255, 255, 255,   0,\n",
       "         0,   0,   0, 255, 255, 255, 255, 255, 255], dtype=uint8)"
      ]
     },
     "execution_count": 70,
     "metadata": {},
     "output_type": "execute_result"
    }
   ],
   "source": [
    "d[30]"
   ]
  },
  {
   "cell_type": "markdown",
   "id": "3def256f",
   "metadata": {},
   "source": [
    "##Check the Image code\n",
    "\n",
    "temp=d[11]\n",
    "for an in range(256):\n",
    "    if(temp[an]==0):\n",
    "        temp[an]=255\n",
    "    else:\n",
    "        temp[an]=0  \n",
    "temp3 = np.reshape(temp,(16,16)) \n",
    "imm = Image.fromarray(temp3)\n",
    "if imm != 'RGB':\n",
    "    imm = imm.convert('RGB')\n",
    "\n",
    "imm.show()"
   ]
  },
  {
   "cell_type": "code",
   "execution_count": 71,
   "id": "ea828cbc",
   "metadata": {},
   "outputs": [
    {
     "name": "stderr",
     "output_type": "stream",
     "text": [
      "C:\\Users\\vvskm\\AppData\\Local\\Temp/ipykernel_18760/353784603.py:1: FutureWarning: arrays to stack must be passed as a \"sequence\" type such as list or tuple. Support for non-sequence iterables such as generators is deprecated as of NumPy 1.16 and will raise an error in the future.\n",
      "  c=np.row_stack(d.pop(0) for i in range(36))\n"
     ]
    }
   ],
   "source": [
    "c=np.row_stack(d.pop(0) for i in range(36))"
   ]
  },
  {
   "cell_type": "code",
   "execution_count": 92,
   "id": "b54c18fd",
   "metadata": {},
   "outputs": [
    {
     "data": {
      "text/plain": [
       "(36, 256)"
      ]
     },
     "execution_count": 92,
     "metadata": {},
     "output_type": "execute_result"
    }
   ],
   "source": [
    "c.shape"
   ]
  },
  {
   "cell_type": "code",
   "execution_count": 93,
   "id": "05f2ff14",
   "metadata": {},
   "outputs": [],
   "source": [
    "X=c\n",
    "y=c"
   ]
  },
  {
   "cell_type": "code",
   "execution_count": 94,
   "id": "ebc3901e",
   "metadata": {},
   "outputs": [
    {
     "ename": "ModuleNotFoundError",
     "evalue": "No module named 'sklearn.cross_validation'",
     "output_type": "error",
     "traceback": [
      "\u001b[1;31m---------------------------------------------------------------------------\u001b[0m",
      "\u001b[1;31mModuleNotFoundError\u001b[0m                       Traceback (most recent call last)",
      "\u001b[1;32m~\\AppData\\Local\\Temp/ipykernel_18760/1215553420.py\u001b[0m in \u001b[0;36m<module>\u001b[1;34m\u001b[0m\n\u001b[1;32m----> 1\u001b[1;33m \u001b[1;32mfrom\u001b[0m \u001b[0msklearn\u001b[0m\u001b[1;33m.\u001b[0m\u001b[0mcross_validation\u001b[0m \u001b[1;32mimport\u001b[0m \u001b[0mtrain_test_split\u001b[0m\u001b[1;33m\u001b[0m\u001b[1;33m\u001b[0m\u001b[0m\n\u001b[0m",
      "\u001b[1;31mModuleNotFoundError\u001b[0m: No module named 'sklearn.cross_validation'"
     ]
    }
   ],
   "source": [
    "from sklearn.cross_validation import train_test_split\n"
   ]
  },
  {
   "cell_type": "code",
   "execution_count": null,
   "id": "514fdf8d",
   "metadata": {},
   "outputs": [],
   "source": [
    "model = "
   ]
  }
 ],
 "metadata": {
  "kernelspec": {
   "display_name": "Python 3 (ipykernel)",
   "language": "python",
   "name": "python3"
  },
  "language_info": {
   "codemirror_mode": {
    "name": "ipython",
    "version": 3
   },
   "file_extension": ".py",
   "mimetype": "text/x-python",
   "name": "python",
   "nbconvert_exporter": "python",
   "pygments_lexer": "ipython3",
   "version": "3.9.7"
  }
 },
 "nbformat": 4,
 "nbformat_minor": 5
}
